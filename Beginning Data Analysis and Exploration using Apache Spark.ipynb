{
 "cells": [
  {
   "cell_type": "markdown",
   "metadata": {},
   "source": [
    "## Based on a PluralSight course\n",
    "https://app.pluralsight.com/library/courses/b8ed343a-d95a-4b7a-a376-e726b867e961/table-of-contents"
   ]
  },
  {
   "cell_type": "markdown",
   "metadata": {},
   "source": [
    "### Transforming and Cleaning Unstructured Data"
   ]
  },
  {
   "cell_type": "code",
   "execution_count": 3,
   "metadata": {},
   "outputs": [],
   "source": [
    "#Load the NYC crime dataset\n",
    "path = \"file:///Users/apoorvadshenoy/NYC_Crime.csv\"\n",
    "data = sc.textFile(path)"
   ]
  },
  {
   "cell_type": "code",
   "execution_count": 4,
   "metadata": {},
   "outputs": [
    {
     "data": {
      "text/plain": [
       "['CMPLNT_NUM,ADDR_PCT_CD,BORO_NM,CMPLNT_FR_DT,CMPLNT_FR_TM,CMPLNT_TO_DT,CMPLNT_TO_TM,CRM_ATPT_CPTD_CD,HADEVELOPT,JURIS_DESC,KY_CD,LAW_CAT_CD,LOC_OF_OCCUR_DESC,OFNS_DESC,PARKS_NM,PD_CD,PD_DESC,PREM_TYP_DESC,RPT_DT,X_COORD_CD,Y_COORD_CD,Latitude,Longitude,Lat_Lon',\n",
       " '939675075,18,MANHATTAN,01/01/2016,00:01:00,05/31/2019,23:59:00,COMPLETED,,N.Y. POLICE DEPT,104,FELONY,INSIDE,RAPE,,157,RAPE 1,COMMERCIAL BUILDING,03/12/2020,988353,217918,40.764818269000045,-73.985189772999945,\"(40.764818269000045, -73.98518977299995)\"',\n",
       " '562697319,18,MANHATTAN,02/09/2016,00:01:00,12/15/2019,23:59:00,COMPLETED,,N.Y. POLICE DEPT,341,MISDEMEANOR,,PETIT LARCENY,,301,\"LARCENY,PETIT BY ACQUIRING LOS\",STREET,03/11/2020,989419,215672,40.758653017000029,-73.981343278999987,\"(40.75865301700003, -73.98134327899999)\"',\n",
       " '885793834,13,MANHATTAN,03/01/2016,00:00:00,07/01/2016,00:00:00,COMPLETED,,N.Y. POLICE DEPT,116,FELONY,INSIDE,SEX CRIMES,,177,SEXUAL ABUSE,RESIDENCE - APT. HOUSE,03/18/2020,988874,207673,40.736698070000045,-73.983316025999954,\"(40.736698070000045, -73.98331602599995)\"',\n",
       " '517974194,34,MANHATTAN,03/14/2016,16:00:00,04/26/2020,16:00:00,COMPLETED,,N.Y. POLICE DEPT,112,FELONY,INSIDE,THEFT-FRAUD,,739,\"FRAUD,UNCLASSIFIED-FELONY\",RESIDENCE - APT. HOUSE,05/05/2020,1001534,248877,40.849776217000056,-73.937527164999949,\"(40.849776217000056, -73.93752716499995)\"',\n",
       " '487346031,19,MANHATTAN,04/01/2016,09:00:00,02/12/2020,09:00:00,COMPLETED,,N.Y. POLICE DEPT,341,MISDEMEANOR,INSIDE,PETIT LARCENY,,349,\"LARCENY,PETIT OF LICENSE PLATE\",RESIDENCE - APT. HOUSE,02/14/2020,995040,223179,40.779252709000048,-73.961041509999973,\"(40.77925270900005, -73.96104150999997)\"',\n",
       " '367412512,13,MANHATTAN,05/25/2016,09:00:00,11/19/2018,17:00:00,COMPLETED,,N.Y. POLICE DEPT,341,MISDEMEANOR,INSIDE,PETIT LARCENY,,338,\"LARCENY,PETIT FROM BUILDING,UN\",RESIDENCE - APT. HOUSE,05/17/2020,987535,208903,40.740074714000059,-73.988147124999955,\"(40.74007471400006, -73.98814712499995)\"',\n",
       " '163782558,18,MANHATTAN,06/25/2016,11:30:00,11/12/2019,21:00:00,COMPLETED,,N.Y. POLICE DEPT,109,FELONY,,GRAND LARCENY,,437,\"LARCENY,GRAND BY FALSE PROMISE-IN PERSON CONTACT\",STREET,02/19/2020,990819,216088,40.75979390100008,-73.976289393999934,\"(40.75979390100008, -73.97628939399993)\"',\n",
       " '784475162,5,MANHATTAN,08/04/2016,15:00:00,05/27/2020,10:00:00,COMPLETED,,N.Y. POLICE DEPT,125,FELONY,INSIDE,NYS LAWS-UNCLASSIFIED FELONY,,847,\"NY STATE LAWS,UNCLASSIFIED FEL\",OTHER,05/28/2020,983903,200257,40.716344152000033,-74.001253192999968,\"(40.71634415200003, -74.00125319299997)\"',\n",
       " '577768082,18,MANHATTAN,08/17/2016,12:00:00,08/18/2016,14:40:00,COMPLETED,,N.Y. POLICE DEPT,341,MISDEMEANOR,INSIDE,PETIT LARCENY,,313,\"LARCENY,PETIT BY FALSE PROMISE\",RESIDENCE - APT. HOUSE,03/11/2020,987488,219610,40.769462731000033,-73.988311575999944,\"(40.76946273100003, -73.98831157599994)\"']"
      ]
     },
     "execution_count": 4,
     "metadata": {},
     "output_type": "execute_result"
    }
   ],
   "source": [
    "#View the dataset\n",
    "data.take(10) #currently each record is a string"
   ]
  },
  {
   "cell_type": "code",
   "execution_count": 109,
   "metadata": {},
   "outputs": [
    {
     "data": {
      "text/plain": [
       "['CMPLNT_NUM,ADDR_PCT_CD,BORO_NM,CMPLNT_FR_DT,CMPLNT_FR_TM,CMPLNT_TO_DT,CMPLNT_TO_TM,CRM_ATPT_CPTD_CD,HADEVELOPT,JURIS_DESC,KY_CD,LAW_CAT_CD,LOC_OF_OCCUR_DESC,OFNS_DESC,PARKS_NM,PD_CD,PD_DESC,PREM_TYP_DESC,RPT_DT,X_COORD_CD,Y_COORD_CD,Latitude,Longitude,Lat_Lon',\n",
       " '939675075,18,MANHATTAN,01/01/2016,00:01:00,05/31/2019,23:59:00,COMPLETED,,N.Y. POLICE DEPT,104,FELONY,INSIDE,RAPE,,157,RAPE 1,COMMERCIAL BUILDING,03/12/2020,988353,217918,40.764818269000045,-73.985189772999945,\"(40.764818269000045, -73.98518977299995)\"',\n",
       " '562697319,18,MANHATTAN,02/09/2016,00:01:00,12/15/2019,23:59:00,COMPLETED,,N.Y. POLICE DEPT,341,MISDEMEANOR,,PETIT LARCENY,,301,\"LARCENY,PETIT BY ACQUIRING LOS\",STREET,03/11/2020,989419,215672,40.758653017000029,-73.981343278999987,\"(40.75865301700003, -73.98134327899999)\"',\n",
       " '885793834,13,MANHATTAN,03/01/2016,00:00:00,07/01/2016,00:00:00,COMPLETED,,N.Y. POLICE DEPT,116,FELONY,INSIDE,SEX CRIMES,,177,SEXUAL ABUSE,RESIDENCE - APT. HOUSE,03/18/2020,988874,207673,40.736698070000045,-73.983316025999954,\"(40.736698070000045, -73.98331602599995)\"',\n",
       " '517974194,34,MANHATTAN,03/14/2016,16:00:00,04/26/2020,16:00:00,COMPLETED,,N.Y. POLICE DEPT,112,FELONY,INSIDE,THEFT-FRAUD,,739,\"FRAUD,UNCLASSIFIED-FELONY\",RESIDENCE - APT. HOUSE,05/05/2020,1001534,248877,40.849776217000056,-73.937527164999949,\"(40.849776217000056, -73.93752716499995)\"',\n",
       " '487346031,19,MANHATTAN,04/01/2016,09:00:00,02/12/2020,09:00:00,COMPLETED,,N.Y. POLICE DEPT,341,MISDEMEANOR,INSIDE,PETIT LARCENY,,349,\"LARCENY,PETIT OF LICENSE PLATE\",RESIDENCE - APT. HOUSE,02/14/2020,995040,223179,40.779252709000048,-73.961041509999973,\"(40.77925270900005, -73.96104150999997)\"',\n",
       " '367412512,13,MANHATTAN,05/25/2016,09:00:00,11/19/2018,17:00:00,COMPLETED,,N.Y. POLICE DEPT,341,MISDEMEANOR,INSIDE,PETIT LARCENY,,338,\"LARCENY,PETIT FROM BUILDING,UN\",RESIDENCE - APT. HOUSE,05/17/2020,987535,208903,40.740074714000059,-73.988147124999955,\"(40.74007471400006, -73.98814712499995)\"',\n",
       " '163782558,18,MANHATTAN,06/25/2016,11:30:00,11/12/2019,21:00:00,COMPLETED,,N.Y. POLICE DEPT,109,FELONY,,GRAND LARCENY,,437,\"LARCENY,GRAND BY FALSE PROMISE-IN PERSON CONTACT\",STREET,02/19/2020,990819,216088,40.75979390100008,-73.976289393999934,\"(40.75979390100008, -73.97628939399993)\"',\n",
       " '784475162,5,MANHATTAN,08/04/2016,15:00:00,05/27/2020,10:00:00,COMPLETED,,N.Y. POLICE DEPT,125,FELONY,INSIDE,NYS LAWS-UNCLASSIFIED FELONY,,847,\"NY STATE LAWS,UNCLASSIFIED FEL\",OTHER,05/28/2020,983903,200257,40.716344152000033,-74.001253192999968,\"(40.71634415200003, -74.00125319299997)\"',\n",
       " '577768082,18,MANHATTAN,08/17/2016,12:00:00,08/18/2016,14:40:00,COMPLETED,,N.Y. POLICE DEPT,341,MISDEMEANOR,INSIDE,PETIT LARCENY,,313,\"LARCENY,PETIT BY FALSE PROMISE\",RESIDENCE - APT. HOUSE,03/11/2020,987488,219610,40.769462731000033,-73.988311575999944,\"(40.76946273100003, -73.98831157599994)\"',\n",
       " '881507062,13,MANHATTAN,08/18/2016,21:00:00,08/18/2016,23:00:00,COMPLETED,,N.Y. POLICE DEPT,116,FELONY,INSIDE,SEX CRIMES,,177,SEXUAL ABUSE,RESIDENCE - APT. HOUSE,03/19/2020,988874,207673,40.736698070000045,-73.983316025999954,\"(40.736698070000045, -73.98331602599995)\"',\n",
       " '742167698,25,MANHATTAN,08/22/2016,20:00:00,02/17/2018,01:00:00,COMPLETED,,N.Y. POLICE DEPT,233,MISDEMEANOR,INSIDE,SEX CRIMES,,175,\"SEXUAL ABUSE 3,2\",RESIDENCE - APT. HOUSE,01/29/2020,1000555,230994,40.800694331000045,-73.941109285999971,\"(40.800694331000045, -73.94110928599997)\"',\n",
       " '617860640,23,MANHATTAN,09/16/2016,13:25:00,09/19/2016,13:30:00,COMPLETED,,N.Y. POLICE DEPT,341,MISDEMEANOR,,PETIT LARCENY,,321,\"LARCENY,PETIT FROM AUTO\",STREET,02/26/2020,1000719,229746,40.797268607000035,-73.940519992999953,\"(40.797268607000035, -73.94051999299995)\"',\n",
       " '196137002,23,MANHATTAN,10/05/2016,18:00:00,10/23/2019,12:00:00,COMPLETED,,N.Y. HOUSING POLICE,112,FELONY,INSIDE,THEFT-FRAUD,,739,\"FRAUD,UNCLASSIFIED-FELONY\",RESIDENCE - PUBLIC HOUSING,01/07/2020,998862,226396,40.788077027000043,-73.947234247999972,\"(40.78807702700004, -73.94723424799997)\"',\n",
       " '742841631,1,MANHATTAN,10/28/2016,00:01:00,10/28/2016,23:59:00,COMPLETED,,N.Y. POLICE DEPT,104,FELONY,INSIDE,RAPE,,157,RAPE 1,RESIDENCE - APT. HOUSE,01/28/2020,982285,201682,40.720255223000038,-74.007090279999943,\"(40.72025522300004, -74.00709027999994)\"',\n",
       " '375957517,14,MANHATTAN,11/07/2016,00:01:00,11/25/2016,23:59:00,COMPLETED,,N.Y. POLICE DEPT,109,FELONY,INSIDE,GRAND LARCENY,,402,\"LARCENY,GRAND BY FALSE PROMISE-NOT IN PERSON CONTACT\",BANK,02/11/2020,987314,211868,40.748212979000073,-73.988943279999944,\"(40.74821297900007, -73.98894327999994)\"',\n",
       " '521562187,19,MANHATTAN,11/18/2016,11:00:00,03/03/2020,11:44:00,COMPLETED,,N.Y. POLICE DEPT,578,VIOLATION,INSIDE,HARRASSMENT 2,,637,\"HARASSMENT,SUBD 1,CIVILIAN\",,03/04/2020,993847,219377,40.76881859000008,-73.965354556999955,\"(40.76881859000008, -73.96535455699996)\"',\n",
       " '853412723,1,MANHATTAN,12/19/2016,12:00:00,01/19/2020,21:54:00,COMPLETED,,N.Y. POLICE DEPT,361,MISDEMEANOR,INSIDE,OFF. AGNST PUB ORD SENSBLTY &,,639,AGGRAVATED HARASSMENT 2,PUBLIC BUILDING,02/03/2020,981905,195924,40.704450789000077,-74.008459141999936,\"(40.70445078900008, -74.00845914199994)\"',\n",
       " '986303070,19,MANHATTAN,12/27/2016,08:00:00,01/03/2017,08:00:00,COMPLETED,,N.Y. POLICE DEPT,109,FELONY,INSIDE,GRAND LARCENY,,428,\"LARCENY,GRAND BY BANK ACCT COMPROMISE-UNAUTHORIZED PURCHASE\",RESIDENCE - APT. HOUSE,02/14/2020,997324,218520,40.766461889000027,-73.952803631999984,\"(40.76646188900003, -73.95280363199998)\"']"
      ]
     },
     "execution_count": 109,
     "metadata": {},
     "output_type": "execute_result"
    }
   ],
   "source": [
    "data.collect()"
   ]
  },
  {
   "cell_type": "markdown",
   "metadata": {},
   "source": [
    "High level steps before we can analyze this data\n",
    "\n",
    "1. Parse and get a structured dataset - functional way (parallel process) vs. imperative way (1 record at a time)\n",
    "2. Clean and fix missing values etc.\n",
    "3. Come up with insightful questions\n",
    "4. Summarize and report metrics for the questions"
   ]
  },
  {
   "cell_type": "markdown",
   "metadata": {},
   "source": [
    "Functional programming is mainly Filter (drop or keep records), Map (transform in some way), and Reduce (combine).\n",
    "\n",
    "Of these, Filter and Map are Transformations (lazily evaluated) and Reduce is an Action."
   ]
  },
  {
   "cell_type": "code",
   "execution_count": 5,
   "metadata": {},
   "outputs": [],
   "source": [
    "#Extract the first row\n",
    "header = data.first()"
   ]
  },
  {
   "cell_type": "code",
   "execution_count": 9,
   "metadata": {},
   "outputs": [],
   "source": [
    "#Get other rows\n",
    "dataWoHeader = data.filter(lambda x: x!=header)"
   ]
  },
  {
   "cell_type": "code",
   "execution_count": 10,
   "metadata": {},
   "outputs": [
    {
     "data": {
      "text/plain": [
       "'939675075,18,MANHATTAN,01/01/2016,00:01:00,05/31/2019,23:59:00,COMPLETED,,N.Y. POLICE DEPT,104,FELONY,INSIDE,RAPE,,157,RAPE 1,COMMERCIAL BUILDING,03/12/2020,988353,217918,40.764818269000045,-73.985189772999945,\"(40.764818269000045, -73.98518977299995)\"'"
      ]
     },
     "execution_count": 10,
     "metadata": {},
     "output_type": "execute_result"
    }
   ],
   "source": [
    "dataWoHeader.first()"
   ]
  },
  {
   "cell_type": "code",
   "execution_count": 11,
   "metadata": {},
   "outputs": [
    {
     "data": {
      "text/plain": [
       "'CMPLNT_NUM,ADDR_PCT_CD,BORO_NM,CMPLNT_FR_DT,CMPLNT_FR_TM,CMPLNT_TO_DT,CMPLNT_TO_TM,CRM_ATPT_CPTD_CD,HADEVELOPT,JURIS_DESC,KY_CD,LAW_CAT_CD,LOC_OF_OCCUR_DESC,OFNS_DESC,PARKS_NM,PD_CD,PD_DESC,PREM_TYP_DESC,RPT_DT,X_COORD_CD,Y_COORD_CD,Latitude,Longitude,Lat_Lon'"
      ]
     },
     "execution_count": 11,
     "metadata": {},
     "output_type": "execute_result"
    }
   ],
   "source": [
    "header"
   ]
  },
  {
   "cell_type": "code",
   "execution_count": 21,
   "metadata": {},
   "outputs": [
    {
     "data": {
      "text/plain": [
       "[['939675075',\n",
       "  '18',\n",
       "  'MANHATTAN',\n",
       "  '01/01/2016',\n",
       "  '00:01:00',\n",
       "  '05/31/2019',\n",
       "  '23:59:00',\n",
       "  'COMPLETED',\n",
       "  '',\n",
       "  'N.Y. POLICE DEPT',\n",
       "  '104',\n",
       "  'FELONY',\n",
       "  'INSIDE',\n",
       "  'RAPE',\n",
       "  '',\n",
       "  '157',\n",
       "  'RAPE 1',\n",
       "  'COMMERCIAL BUILDING',\n",
       "  '03/12/2020',\n",
       "  '988353',\n",
       "  '217918',\n",
       "  '40.764818269000045',\n",
       "  '-73.985189772999945',\n",
       "  '\"(40.764818269000045',\n",
       "  ' -73.98518977299995)\"'],\n",
       " ['562697319',\n",
       "  '18',\n",
       "  'MANHATTAN',\n",
       "  '02/09/2016',\n",
       "  '00:01:00',\n",
       "  '12/15/2019',\n",
       "  '23:59:00',\n",
       "  'COMPLETED',\n",
       "  '',\n",
       "  'N.Y. POLICE DEPT',\n",
       "  '341',\n",
       "  'MISDEMEANOR',\n",
       "  '',\n",
       "  'PETIT LARCENY',\n",
       "  '',\n",
       "  '301',\n",
       "  '\"LARCENY',\n",
       "  'PETIT BY ACQUIRING LOS\"',\n",
       "  'STREET',\n",
       "  '03/11/2020',\n",
       "  '989419',\n",
       "  '215672',\n",
       "  '40.758653017000029',\n",
       "  '-73.981343278999987',\n",
       "  '\"(40.75865301700003',\n",
       "  ' -73.98134327899999)\"'],\n",
       " ['885793834',\n",
       "  '13',\n",
       "  'MANHATTAN',\n",
       "  '03/01/2016',\n",
       "  '00:00:00',\n",
       "  '07/01/2016',\n",
       "  '00:00:00',\n",
       "  'COMPLETED',\n",
       "  '',\n",
       "  'N.Y. POLICE DEPT',\n",
       "  '116',\n",
       "  'FELONY',\n",
       "  'INSIDE',\n",
       "  'SEX CRIMES',\n",
       "  '',\n",
       "  '177',\n",
       "  'SEXUAL ABUSE',\n",
       "  'RESIDENCE - APT. HOUSE',\n",
       "  '03/18/2020',\n",
       "  '988874',\n",
       "  '207673',\n",
       "  '40.736698070000045',\n",
       "  '-73.983316025999954',\n",
       "  '\"(40.736698070000045',\n",
       "  ' -73.98331602599995)\"']]"
      ]
     },
     "execution_count": 21,
     "metadata": {},
     "output_type": "execute_result"
    }
   ],
   "source": [
    "#Parse the row to extract fields - takes the string record and converts into list of strings\n",
    "dataWoHeader.map(lambda x:x.split(\",\")).take(3)"
   ]
  },
  {
   "cell_type": "code",
   "execution_count": 91,
   "metadata": {},
   "outputs": [
    {
     "name": "stdout",
     "output_type": "stream",
     "text": [
      "['CMPLNT_NUM', 'ADDR_PCT_CD', 'BORO_NM', 'CMPLNT_FR_DT', 'CMPLNT_FR_TM', 'CMPLNT_TO_DT', 'CMPLNT_TO_TM', 'CRM_ATPT_CPTD_CD', 'HADEVELOPT', 'JURIS_DESC', 'KY_CD', 'LAW_CAT_CD', 'LOC_OF_OCCUR_DESC', 'OFNS_DESC', 'PARKS_NM', 'PD_CD', 'PD_DESC', 'PREM_TYP_DESC', 'RPT_DT', 'X_COORD_CD', 'Y_COORD_CD', 'Latitude', 'Longitude', 'Lat_Lon']\n"
     ]
    }
   ],
   "source": [
    "import csv\n",
    "from io import StringIO\n",
    "from collections import namedtuple\n",
    "\n",
    "fields = header.split(\",\")\n",
    "print(fields)\n",
    "\n",
    "crime = namedtuple('Crime',fields)"
   ]
  },
  {
   "cell_type": "code",
   "execution_count": 92,
   "metadata": {},
   "outputs": [
    {
     "data": {
      "text/plain": [
       "type"
      ]
     },
     "execution_count": 92,
     "metadata": {},
     "output_type": "execute_result"
    }
   ],
   "source": [
    "type(crime)"
   ]
  },
  {
   "cell_type": "code",
   "execution_count": 93,
   "metadata": {},
   "outputs": [],
   "source": [
    "def parse(row):\n",
    "    reader = csv.reader(StringIO(row))\n",
    "    row = next(reader)\n",
    "    return crime(*row)"
   ]
  },
  {
   "cell_type": "code",
   "execution_count": 94,
   "metadata": {},
   "outputs": [],
   "source": [
    "crimes = dataWoHeader.map(parse)"
   ]
  },
  {
   "cell_type": "code",
   "execution_count": 95,
   "metadata": {},
   "outputs": [
    {
     "data": {
      "text/plain": [
       "Crime(CMPLNT_NUM='939675075', ADDR_PCT_CD='18', BORO_NM='MANHATTAN', CMPLNT_FR_DT='01/01/2016', CMPLNT_FR_TM='00:01:00', CMPLNT_TO_DT='05/31/2019', CMPLNT_TO_TM='23:59:00', CRM_ATPT_CPTD_CD='COMPLETED', HADEVELOPT='', JURIS_DESC='N.Y. POLICE DEPT', KY_CD='104', LAW_CAT_CD='FELONY', LOC_OF_OCCUR_DESC='INSIDE', OFNS_DESC='RAPE', PARKS_NM='', PD_CD='157', PD_DESC='RAPE 1', PREM_TYP_DESC='COMMERCIAL BUILDING', RPT_DT='03/12/2020', X_COORD_CD='988353', Y_COORD_CD='217918', Latitude='40.764818269000045', Longitude='-73.985189772999945', Lat_Lon='(40.764818269000045, -73.98518977299995)')"
      ]
     },
     "execution_count": 95,
     "metadata": {},
     "output_type": "execute_result"
    }
   ],
   "source": [
    "crimes.first()"
   ]
  },
  {
   "cell_type": "code",
   "execution_count": 97,
   "metadata": {},
   "outputs": [
    {
     "data": {
      "text/plain": [
       "[Crime(CMPLNT_NUM='939675075', ADDR_PCT_CD='18', BORO_NM='MANHATTAN', CMPLNT_FR_DT='01/01/2016', CMPLNT_FR_TM='00:01:00', CMPLNT_TO_DT='05/31/2019', CMPLNT_TO_TM='23:59:00', CRM_ATPT_CPTD_CD='COMPLETED', HADEVELOPT='', JURIS_DESC='N.Y. POLICE DEPT', KY_CD='104', LAW_CAT_CD='FELONY', LOC_OF_OCCUR_DESC='INSIDE', OFNS_DESC='RAPE', PARKS_NM='', PD_CD='157', PD_DESC='RAPE 1', PREM_TYP_DESC='COMMERCIAL BUILDING', RPT_DT='03/12/2020', X_COORD_CD='988353', Y_COORD_CD='217918', Latitude='40.764818269000045', Longitude='-73.985189772999945', Lat_Lon='(40.764818269000045, -73.98518977299995)'),\n",
       " Crime(CMPLNT_NUM='562697319', ADDR_PCT_CD='18', BORO_NM='MANHATTAN', CMPLNT_FR_DT='02/09/2016', CMPLNT_FR_TM='00:01:00', CMPLNT_TO_DT='12/15/2019', CMPLNT_TO_TM='23:59:00', CRM_ATPT_CPTD_CD='COMPLETED', HADEVELOPT='', JURIS_DESC='N.Y. POLICE DEPT', KY_CD='341', LAW_CAT_CD='MISDEMEANOR', LOC_OF_OCCUR_DESC='', OFNS_DESC='PETIT LARCENY', PARKS_NM='', PD_CD='301', PD_DESC='LARCENY,PETIT BY ACQUIRING LOS', PREM_TYP_DESC='STREET', RPT_DT='03/11/2020', X_COORD_CD='989419', Y_COORD_CD='215672', Latitude='40.758653017000029', Longitude='-73.981343278999987', Lat_Lon='(40.75865301700003, -73.98134327899999)')]"
      ]
     },
     "execution_count": 97,
     "metadata": {},
     "output_type": "execute_result"
    }
   ],
   "source": [
    "crimes.take(2) #each record is now a 'Crime' class object "
   ]
  },
  {
   "cell_type": "code",
   "execution_count": 103,
   "metadata": {},
   "outputs": [
    {
     "data": {
      "text/plain": [
       "'MANHATTAN'"
      ]
     },
     "execution_count": 103,
     "metadata": {},
     "output_type": "execute_result"
    }
   ],
   "source": [
    "crimes.first().BORO_NM"
   ]
  },
  {
   "cell_type": "code",
   "execution_count": 108,
   "metadata": {},
   "outputs": [
    {
     "data": {
      "text/plain": [
       "defaultdict(int,\n",
       "            {'939675075': 1,\n",
       "             '562697319': 1,\n",
       "             '885793834': 1,\n",
       "             '517974194': 1,\n",
       "             '487346031': 1,\n",
       "             '367412512': 1,\n",
       "             '163782558': 1,\n",
       "             '784475162': 1,\n",
       "             '577768082': 1,\n",
       "             '881507062': 1,\n",
       "             '742167698': 1,\n",
       "             '617860640': 1,\n",
       "             '196137002': 1,\n",
       "             '742841631': 1,\n",
       "             '375957517': 1,\n",
       "             '521562187': 1,\n",
       "             '853412723': 1,\n",
       "             '986303070': 1})"
      ]
     },
     "execution_count": 108,
     "metadata": {},
     "output_type": "execute_result"
    }
   ],
   "source": [
    "# Identifying and filtering missing values - damnit this dataset is stupid; only 18 records\n",
    "crimes.map(lambda x:x.CMPLNT_NUM).countByValue()\n",
    "\n",
    "#You can use the filter function to remove missing values etc. after exploring the dataset"
   ]
  },
  {
   "cell_type": "code",
   "execution_count": null,
   "metadata": {},
   "outputs": [],
   "source": [
    "#You can also chain the operations filter, map etc.\n",
    "#For example, you can FILTER records for certain type of crime, then use MAP to pick the year column, and use \n",
    "#countByValue to see how that crime is doing over the years"
   ]
  },
  {
   "cell_type": "code",
   "execution_count": 113,
   "metadata": {},
   "outputs": [],
   "source": [
    "#GMPLOT is super cool python function to plot on actual maps!"
   ]
  },
  {
   "cell_type": "markdown",
   "metadata": {},
   "source": [
    "### Summarizing Data along Dimensions"
   ]
  },
  {
   "cell_type": "code",
   "execution_count": 116,
   "metadata": {},
   "outputs": [],
   "source": [
    "# Pair RDDs are useful (key-value) pairs to summarize metrics with dimensions\n",
    "# To create a pair RDD in Python, make sure each record is a tuple\n",
    "# Summarize by Keys and Merge by Keys are two types of operations we can do"
   ]
  },
  {
   "cell_type": "code",
   "execution_count": 117,
   "metadata": {},
   "outputs": [],
   "source": [
    "trafficpath = \"file:///Users/apoorvadshenoy/Dodgers.data\"\n",
    "eventspath = \"file:///Users/apoorvadshenoy/Dodgers.events\"\n",
    "\n",
    "traffic = sc.textFile(trafficpath)\n",
    "games = sc.textFile(eventspath)"
   ]
  },
  {
   "cell_type": "code",
   "execution_count": 119,
   "metadata": {},
   "outputs": [
    {
     "data": {
      "text/plain": [
       "['4/10/2005 0:00,-1',\n",
       " '4/10/2005 0:05,-1',\n",
       " '4/10/2005 0:10,-1',\n",
       " '4/10/2005 0:15,-1',\n",
       " '4/10/2005 0:20,-1']"
      ]
     },
     "execution_count": 119,
     "metadata": {},
     "output_type": "execute_result"
    }
   ],
   "source": [
    "traffic.take(5)"
   ]
  },
  {
   "cell_type": "code",
   "execution_count": 120,
   "metadata": {},
   "outputs": [
    {
     "data": {
      "text/plain": [
       "['04/12/05,13:10:00,16:23:00,55892,San Francisco,W 9-8�',\n",
       " '04/13/05,19:10:00,21:48:00,46514,San Francisco,W 4-1�',\n",
       " '04/15/05,19:40:00,21:48:00,51816,San Diego,W 4-0�',\n",
       " '04/16/05,19:10:00,21:52:00,54704,San Diego,W 8-3�',\n",
       " '04/17/05,13:10:00,15:31:00,53402,San Diego,W 6-0�']"
      ]
     },
     "execution_count": 120,
     "metadata": {},
     "output_type": "execute_result"
    }
   ],
   "source": [
    "games.take(5)"
   ]
  },
  {
   "cell_type": "code",
   "execution_count": 125,
   "metadata": {},
   "outputs": [],
   "source": [
    "# Creating a pair RDD for the traffic - need a tuple\n",
    "from datetime import datetime\n",
    "\n",
    "def parseTraffic(row):\n",
    "    formatdate = \"%m/%d/%Y %H:%M\"\n",
    "    row = row.split(\",\")\n",
    "    row[0] = datetime.strptime(row[0],formatdate)\n",
    "    row[1] = int(row[1])\n",
    "    return (row[0],row[1])"
   ]
  },
  {
   "cell_type": "code",
   "execution_count": 126,
   "metadata": {},
   "outputs": [],
   "source": [
    "trafficParsed = traffic.map(parseTraffic)"
   ]
  },
  {
   "cell_type": "code",
   "execution_count": 127,
   "metadata": {},
   "outputs": [
    {
     "data": {
      "text/plain": [
       "[(datetime.datetime(2005, 4, 10, 0, 0), -1),\n",
       " (datetime.datetime(2005, 4, 10, 0, 5), -1),\n",
       " (datetime.datetime(2005, 4, 10, 0, 10), -1),\n",
       " (datetime.datetime(2005, 4, 10, 0, 15), -1),\n",
       " (datetime.datetime(2005, 4, 10, 0, 20), -1)]"
      ]
     },
     "execution_count": 127,
     "metadata": {},
     "output_type": "execute_result"
    }
   ],
   "source": [
    "trafficParsed.take(5)"
   ]
  },
  {
   "cell_type": "code",
   "execution_count": null,
   "metadata": {},
   "outputs": [],
   "source": [
    "# Summarize pair RDD - using 'reduceByKey' - this is similar to reduce but has some differences (it is a transformation; not action)\n",
    "# for each key in each node, a reduceByKey(lambda x,y:x+y) is applied until each distinct key has just 1 record. The lambda can be anything"
   ]
  },
  {
   "cell_type": "code",
   "execution_count": 128,
   "metadata": {},
   "outputs": [],
   "source": [
    "#Commuting daily trends\n",
    "dailyTrend = trafficParsed.map(lambda x: (x[0].date(),x[1])).reduceByKey(lambda x,y:x+y)"
   ]
  },
  {
   "cell_type": "code",
   "execution_count": 129,
   "metadata": {},
   "outputs": [
    {
     "data": {
      "text/plain": [
       "[(datetime.date(2005, 4, 10), -288),\n",
       " (datetime.date(2005, 4, 11), 5062),\n",
       " (datetime.date(2005, 4, 14), 6423),\n",
       " (datetime.date(2005, 4, 15), 6459),\n",
       " (datetime.date(2005, 4, 16), 6002),\n",
       " (datetime.date(2005, 4, 17), 5322),\n",
       " (datetime.date(2005, 4, 18), 5600),\n",
       " (datetime.date(2005, 4, 19), 6049),\n",
       " (datetime.date(2005, 4, 21), 5977),\n",
       " (datetime.date(2005, 4, 22), 6038)]"
      ]
     },
     "execution_count": 129,
     "metadata": {},
     "output_type": "execute_result"
    }
   ],
   "source": [
    "dailyTrend.take(10)"
   ]
  },
  {
   "cell_type": "code",
   "execution_count": 131,
   "metadata": {},
   "outputs": [
    {
     "data": {
      "text/plain": [
       "[(datetime.date(2005, 7, 28), 7661),\n",
       " (datetime.date(2005, 7, 29), 7499),\n",
       " (datetime.date(2005, 8, 12), 7287),\n",
       " (datetime.date(2005, 7, 27), 7238),\n",
       " (datetime.date(2005, 9, 23), 7175),\n",
       " (datetime.date(2005, 7, 26), 7163),\n",
       " (datetime.date(2005, 5, 20), 7119),\n",
       " (datetime.date(2005, 8, 11), 7110),\n",
       " (datetime.date(2005, 9, 8), 7107),\n",
       " (datetime.date(2005, 9, 7), 7082)]"
      ]
     },
     "execution_count": 131,
     "metadata": {},
     "output_type": "execute_result"
    }
   ],
   "source": [
    "dailyTrend.sortBy(lambda x:-x[1]).take(10) #plot top 10 days with highest traffic"
   ]
  },
  {
   "cell_type": "code",
   "execution_count": 132,
   "metadata": {},
   "outputs": [],
   "source": [
    "# To test if game days have highest traffic, we need to merge wiht the other dataset\n",
    "def parseGames(row):\n",
    "    formatdate = \"%m/%d/%y\"\n",
    "    row = row.split(\",\")\n",
    "    row[0] = datetime.strptime(row[0],formatdate).date()\n",
    "    return (row[0],row[4])"
   ]
  },
  {
   "cell_type": "code",
   "execution_count": 133,
   "metadata": {},
   "outputs": [],
   "source": [
    "gamesParsed = games.map(parseGames)"
   ]
  },
  {
   "cell_type": "code",
   "execution_count": 134,
   "metadata": {},
   "outputs": [
    {
     "data": {
      "text/plain": [
       "[(datetime.date(2005, 4, 12), 'San Francisco'),\n",
       " (datetime.date(2005, 4, 13), 'San Francisco'),\n",
       " (datetime.date(2005, 4, 15), 'San Diego'),\n",
       " (datetime.date(2005, 4, 16), 'San Diego'),\n",
       " (datetime.date(2005, 4, 17), 'San Diego')]"
      ]
     },
     "execution_count": 134,
     "metadata": {},
     "output_type": "execute_result"
    }
   ],
   "source": [
    "gamesParsed.take(5)"
   ]
  },
  {
   "cell_type": "code",
   "execution_count": 135,
   "metadata": {},
   "outputs": [
    {
     "data": {
      "text/plain": [
       "[(datetime.date(2005, 4, 11), (5062, None)),\n",
       " (datetime.date(2005, 4, 15), (6459, 'San Diego')),\n",
       " (datetime.date(2005, 4, 17), (5322, 'San Diego')),\n",
       " (datetime.date(2005, 4, 19), (6049, None)),\n",
       " (datetime.date(2005, 4, 21), (5977, None)),\n",
       " (datetime.date(2005, 4, 22), (6038, None)),\n",
       " (datetime.date(2005, 4, 23), (5366, None)),\n",
       " (datetime.date(2005, 4, 24), (4319, None)),\n",
       " (datetime.date(2005, 4, 25), (6280, 'Arizona')),\n",
       " (datetime.date(2005, 4, 30), (6090, 'Colorado'))]"
      ]
     },
     "execution_count": 135,
     "metadata": {},
     "output_type": "execute_result"
    }
   ],
   "source": [
    "dailyTrendCombined = dailyTrend.leftOuterJoin(gamesParsed)\n",
    "dailyTrendCombined.take(10) #key is still the same but the value becomes both traffic + opponent details"
   ]
  },
  {
   "cell_type": "code",
   "execution_count": 137,
   "metadata": {},
   "outputs": [],
   "source": [
    "def checkgame(row):\n",
    "    if row[1][1] == None:\n",
    "        return (row[0],row[1][1],\"regular day\",row[1][0])\n",
    "    else:\n",
    "        return (row[0],row[1][1],\"game day\",row[1][0])"
   ]
  },
  {
   "cell_type": "code",
   "execution_count": 142,
   "metadata": {},
   "outputs": [],
   "source": [
    "dailyTrendChecked = dailyTrendCombined.map(checkgame)"
   ]
  },
  {
   "cell_type": "code",
   "execution_count": 143,
   "metadata": {},
   "outputs": [
    {
     "data": {
      "text/plain": [
       "[(datetime.date(2005, 7, 28), 'Cincinnati', 'game day', 7661),\n",
       " (datetime.date(2005, 7, 29), 'St. Louis', 'game day', 7499),\n",
       " (datetime.date(2005, 8, 12), 'NY Mets', 'game day', 7287),\n",
       " (datetime.date(2005, 7, 27), 'Cincinnati', 'game day', 7238),\n",
       " (datetime.date(2005, 9, 23), 'Pittsburgh', 'game day', 7175),\n",
       " (datetime.date(2005, 7, 26), 'Cincinnati', 'game day', 7163),\n",
       " (datetime.date(2005, 5, 20), 'LA Angels', 'game day', 7119),\n",
       " (datetime.date(2005, 8, 11), 'Philadelphia', 'game day', 7110),\n",
       " (datetime.date(2005, 9, 8), None, 'regular day', 7107),\n",
       " (datetime.date(2005, 9, 7), 'San Francisco', 'game day', 7082)]"
      ]
     },
     "execution_count": 143,
     "metadata": {},
     "output_type": "execute_result"
    }
   ],
   "source": [
    "dailyTrendChecked.sortBy(lambda x:-x[3]).take(10) #9/10 highest traffic days are game days!"
   ]
  },
  {
   "cell_type": "code",
   "execution_count": 146,
   "metadata": {},
   "outputs": [
    {
     "data": {
      "text/plain": [
       "[('regular day', 5411.329787234043), ('game day', 5948.604938271605)]"
      ]
     },
     "execution_count": 146,
     "metadata": {},
     "output_type": "execute_result"
    }
   ],
   "source": [
    "# Now we can check the average traffic for game and regular days\n",
    "# You can do this using reduceByKey but doing it directly will result in incorrect values\n",
    "# combineByKey is the easiest way to do this \n",
    "# https://stackoverflow.com/questions/33937625/who-can-give-a-clear-explanation-for-combinebykey-in-spark\n",
    "\n",
    "dailyTrendChecked.map(lambda x:(x[2],x[3]))\\\n",
    "              .combineByKey(lambda value:(value,1), \\ #createCombiner() function\n",
    "              lambda acc, value: (acc[0]+value,acc[1]+1), \\ #mergeValues() function \n",
    "              lambda acc1, acc2: (acc1[0] + acc2[0], acc1[1]+acc2[1]))\\ #mergeCombiners() function\n",
    "              .mapValues(lambda x:x[0]/x[1])\\\n",
    "              .collect()"
   ]
  },
  {
   "cell_type": "markdown",
   "metadata": {},
   "source": [
    "### Modeling Relationships in the Marvel Universe"
   ]
  },
  {
   "cell_type": "code",
   "execution_count": 147,
   "metadata": {},
   "outputs": [],
   "source": [
    "bookpath = \"file:///Users/apoorvadshenoy/Books.txt\"\n",
    "edgespath = \"file:///Users/apoorvadshenoy/Edges.txt\"\n",
    "characterpath = \"file:///Users/apoorvadshenoy/Characters.txt\"\n",
    "\n",
    "books = sc.textFile(bookpath)\n",
    "edges = sc.textFile(edgespath)\n",
    "characters = sc.textFile(characterpath)"
   ]
  },
  {
   "cell_type": "code",
   "execution_count": 150,
   "metadata": {},
   "outputs": [
    {
     "data": {
      "text/plain": [
       "['Vertex 6487: AA2 35',\n",
       " 'Vertex 6488: M/PRM 35',\n",
       " 'Vertex 6489: M/PRM 36',\n",
       " 'Vertex 6490: M/PRM 37',\n",
       " 'Vertex 6491: WI? 9']"
      ]
     },
     "execution_count": 150,
     "metadata": {},
     "output_type": "execute_result"
    }
   ],
   "source": [
    "books.take(5) #vertex name and a book name"
   ]
  },
  {
   "cell_type": "code",
   "execution_count": 151,
   "metadata": {},
   "outputs": [
    {
     "data": {
      "text/plain": [
       "['Vertex 1: 24-HOUR MAN/EMMANUEL',\n",
       " 'Vertex 2: 3-D MAN/CHARLES CHANDLER & HAROLD CHANDLER',\n",
       " 'Vertex 3: 4-D MAN/MERCURIO',\n",
       " 'Vertex 4: 8-BALL/',\n",
       " 'Vertex 5: A']"
      ]
     },
     "execution_count": 151,
     "metadata": {},
     "output_type": "execute_result"
    }
   ],
   "source": [
    "characters.take(5) #vertex name and a character name"
   ]
  },
  {
   "cell_type": "code",
   "execution_count": 160,
   "metadata": {},
   "outputs": [
    {
     "data": {
      "text/plain": [
       "['*Vertices 19428 6486',\n",
       " '1 \"24-HOUR MAN/EMMANUEL\"',\n",
       " '2 \"3-D MAN/CHARLES CHAN\"',\n",
       " '3 \"4-D MAN/MERCURIO\"',\n",
       " '4 \"8-BALL/\"',\n",
       " '5 \"A\"',\n",
       " '6 \"A\\'YIN\"',\n",
       " '7 \"ABBOTT, JACK\"',\n",
       " '8 \"ABCISSA\"',\n",
       " '9 \"ABEL\"']"
      ]
     },
     "execution_count": 160,
     "metadata": {},
     "output_type": "execute_result"
    }
   ],
   "source": [
    "edges.take(10)  #contains lot of unnecessary info; filtering them here"
   ]
  },
  {
   "cell_type": "code",
   "execution_count": 157,
   "metadata": {},
   "outputs": [],
   "source": [
    "def edgefilter(row):\n",
    "    if '*' in row or '\"' in row:\n",
    "        return False\n",
    "    else:\n",
    "        return True\n",
    "edgesFiltered = edges.filter(edgefilter)"
   ]
  },
  {
   "cell_type": "code",
   "execution_count": 158,
   "metadata": {},
   "outputs": [
    {
     "data": {
      "text/plain": [
       "['1 6487',\n",
       " '2 6488 6489 6490 6491 6492 6493 6494 6495 6496',\n",
       " '3 6497 6498 6499 6500 6501 6502 6503 6504 6505',\n",
       " '4 6506 6507 6508',\n",
       " '5 6509 6510 6511',\n",
       " '6 6512 6513 6514 6515',\n",
       " '7 6516',\n",
       " '8 6517 6518',\n",
       " '9 6519 6520',\n",
       " '10 6521 6522 6523 6524 6525 6526 6527 6528 6529 6530 6531 6532 6533 6534 6535']"
      ]
     },
     "execution_count": 158,
     "metadata": {},
     "output_type": "execute_result"
    }
   ],
   "source": [
    "edgesFiltered.take(10) #looks good; connect Characters to Books"
   ]
  },
  {
   "cell_type": "code",
   "execution_count": 159,
   "metadata": {},
   "outputs": [
    {
     "data": {
      "text/plain": [
       "[('1', ['6487']),\n",
       " ('2',\n",
       "  ['6488', '6489', '6490', '6491', '6492', '6493', '6494', '6495', '6496']),\n",
       " ('3',\n",
       "  ['6497', '6498', '6499', '6500', '6501', '6502', '6503', '6504', '6505']),\n",
       " ('4', ['6506', '6507', '6508']),\n",
       " ('5', ['6509', '6510', '6511']),\n",
       " ('6', ['6512', '6513', '6514', '6515']),\n",
       " ('7', ['6516']),\n",
       " ('8', ['6517', '6518']),\n",
       " ('9', ['6519', '6520']),\n",
       " ('10',\n",
       "  ['6521',\n",
       "   '6522',\n",
       "   '6523',\n",
       "   '6524',\n",
       "   '6525',\n",
       "   '6526',\n",
       "   '6527',\n",
       "   '6528',\n",
       "   '6529',\n",
       "   '6530',\n",
       "   '6531',\n",
       "   '6532',\n",
       "   '6533',\n",
       "   '6534',\n",
       "   '6535'])]"
      ]
     },
     "execution_count": 159,
     "metadata": {},
     "output_type": "execute_result"
    }
   ],
   "source": [
    "# Find the most influential characters\n",
    "\n",
    "characterBookMap = edgesFiltered.map(lambda x: x.split()).map(lambda x: (x[0],x[1:])) #first is the Character; second is the set of Books\n",
    "characterBookMap.take(10)"
   ]
  },
  {
   "cell_type": "code",
   "execution_count": 161,
   "metadata": {},
   "outputs": [],
   "source": [
    "#Creating a lookup table with character iD and name\n",
    "def charlookup(row):\n",
    "    row = row.split(\":\")\n",
    "    return (row[0][7:],row[1].strip()) #check the characters table for format!\n",
    "\n",
    "charlookuptable = characters.map(charlookup).collectAsMap() #creates a dictionary of lookup"
   ]
  },
  {
   "cell_type": "code",
   "execution_count": 163,
   "metadata": {},
   "outputs": [
    {
     "data": {
      "text/plain": [
       "{'1': '24-HOUR MAN/EMMANUEL',\n",
       " '2': '3-D MAN/CHARLES CHANDLER & HAROLD CHANDLER',\n",
       " '3': '4-D MAN/MERCURIO',\n",
       " '4': '8-BALL/',\n",
       " '5': 'A',\n",
       " '6': \"A'YIN\",\n",
       " '7': 'ABBOTT, JACK',\n",
       " '8': 'ABCISSA',\n",
       " '9': 'ABEL',\n",
       " '10': 'ABOMINATION/EMIL BLONSKY',\n",
       " '11': 'ABOMINATION | MUTANT X-VERSE',\n",
       " '12': 'ABOMINATRIX',\n",
       " '13': 'ABRAXAS',\n",
       " '14': 'ADAM 3,031',\n",
       " '15': 'ABSALOM',\n",
       " '16': 'ABSORBING MAN/CARL CRUSHER CREEL',\n",
       " '17': 'ABSORBING MAN | MUTANT X-VERSE',\n",
       " '18': 'ACBA',\n",
       " '19': 'ACHEBE, REVEREND DOCTOR MICHAEL IBN AL-HAJJ',\n",
       " '20': 'ACHILLES',\n",
       " '21': 'ACHILLES II/HELMUT',\n",
       " '22': 'ACROBAT/CARL ZANTE',\n",
       " '23': 'ADAM X',\n",
       " '24': 'ADAMS, CINDY',\n",
       " '25': 'ADAMS, CONGRESSMAN HENRY',\n",
       " '26': 'ADAMS, GEORGE',\n",
       " '27': 'ADAMS, MARTHA',\n",
       " '28': 'ADAMS, NICOLE NIKKI',\n",
       " '29': 'ADAMSON, JASON',\n",
       " '30': 'ADAMSON, REBECCA',\n",
       " '31': 'ADMIRAL PROTOCOL/',\n",
       " '32': 'ADORA',\n",
       " '33': 'ADORA CLONE',\n",
       " '34': 'ADRIA',\n",
       " '35': 'ADVA',\n",
       " '36': 'ADVENT/KYLE GROBE',\n",
       " '37': 'ADVERSARY',\n",
       " '38': 'AEGIS/TREY ROLLINS',\n",
       " '39': 'AENTAROS',\n",
       " '40': 'AFTERLIFE',\n",
       " '41': 'AGAMEMNON',\n",
       " '42': 'AGAMEMNON II/ANDREI ROSTOV',\n",
       " '43': 'AGAMEMNON III/',\n",
       " '44': 'AGAMOTTO',\n",
       " '45': 'AGARN, CAPT.',\n",
       " '46': 'AGED GENGHIS',\n",
       " '47': 'AGEE, DR. AUBREY',\n",
       " '48': 'AGEE, REBECCA',\n",
       " '49': 'AGENT AXIS/',\n",
       " '50': 'AGENT 18/JACK TRUMAN',\n",
       " '51': 'AGENT-X/',\n",
       " '52': 'AGGAMON',\n",
       " '53': 'AGINAR',\n",
       " '54': 'AGON',\n",
       " '55': 'AGONY/',\n",
       " '56': 'AGUIRRE, ISOBEL',\n",
       " '57': 'AHAB/RORY CAMPBELL',\n",
       " '58': 'AHQLAU',\n",
       " '59': 'AHURA',\n",
       " '60': 'AI-CHIA',\n",
       " '61': 'AINET',\n",
       " '62': 'AIR WALKER/ARLO SAMUELSON',\n",
       " '63': 'AIR-WALKER/GABRIEL LAN',\n",
       " '64': 'AIRBORNE/',\n",
       " '65': 'AIREO/AEOLUS [INHUMAN]',\n",
       " '66': 'AJAK/TECUMOTZIN [ETERNAL]',\n",
       " '67': 'AJAX',\n",
       " '68': 'AJAX II',\n",
       " '69': \"AJES'HA\",\n",
       " '70': 'AKAFE',\n",
       " '71': 'AKULIA',\n",
       " '72': 'AKUTAGAWA, OSAMU',\n",
       " '73': 'AL-KHALAD',\n",
       " '74': 'ALANYA',\n",
       " '75': 'ALBERIK',\n",
       " '76': 'ALBERT',\n",
       " '77': 'ALBINO/DR. AUGUSTA SEGER',\n",
       " '78': 'ALBUQUERQUE, JEREMIAH',\n",
       " '79': 'ALCHEMY/THOMAS JONES',\n",
       " '80': 'ALDEN, PROF. MEREDITH MCCALL',\n",
       " '81': 'ALEGRIA, RICHIE',\n",
       " '82': 'ALEXANDER, CALEB',\n",
       " '83': 'ALEXANDER, CARRIE',\n",
       " '84': 'ALFY',\n",
       " '85': 'ALIOTH',\n",
       " '86': 'ALIST',\n",
       " '87': 'ALISTRO',\n",
       " '88': 'ALLEN, TERRY',\n",
       " '89': 'ALOUETTE, GENARD',\n",
       " '90': 'ALPHA',\n",
       " '91': 'ALRAUNE, MARLENE',\n",
       " '92': 'ALVAREZ, CARLY',\n",
       " '93': 'ALVAREZ, PAUL',\n",
       " '94': 'ALVAREZ, FELIX',\n",
       " '95': 'AMAZO-MAXI-WOMAN/',\n",
       " '96': 'AMAZON',\n",
       " '97': 'AMENHOTEP',\n",
       " '98': 'AMERICAN EAGLE II/JAMES DORE',\n",
       " '99': 'AMERICAN EAGLE III/JASON STRONGBOW',\n",
       " '100': 'AMERICAN SAMURAI/',\n",
       " '101': 'AMERICOP/',\n",
       " '102': 'AMIKO',\n",
       " '103': 'AMINEDI',\n",
       " '104': 'AMPERE/',\n",
       " '105': 'AMPHARON',\n",
       " '106': 'AMPHIBIAN/KINGLEY RICE',\n",
       " '107': 'AMPHIBIUS',\n",
       " '108': 'ANACONDA/BLANCHE SITZNSKI',\n",
       " '109': 'ANAIS',\n",
       " '110': 'ANAK',\n",
       " '111': 'ANALYZER',\n",
       " '112': 'ANAMI, HIROSHI',\n",
       " '113': 'ANANASTASIA/ANNA',\n",
       " '114': 'ANARCHIST/TIKE ALICAR',\n",
       " '115': 'ANCESTOR/',\n",
       " '116': 'ANCIENT ONE',\n",
       " '117': 'ANCIENT ONE/BARON MORDO | MUTANT X-VERSE',\n",
       " '118': 'ANDERS, JOSHUA RICHIE',\n",
       " '119': 'ANDERSON, BAXTER',\n",
       " '120': 'ANDERSON, CHARLES',\n",
       " '121': 'ANDERSON, CHET',\n",
       " '122': 'ANDERSON, CHIEF MAGISTRATE TAM',\n",
       " '123': 'ANDERSON, GINA',\n",
       " '124': 'ANDERSON, MARJORIE',\n",
       " '125': 'ANDERSON, NICKY',\n",
       " '126': 'ANDERSSEN, TANYA',\n",
       " '127': 'ANDREWS, DARYL TROOP',\n",
       " '128': 'ANDROMEDA/ANDROMEDA ATTUMASEN [ATLANTEAN]',\n",
       " '129': 'ANDROS',\n",
       " '130': 'ANDWELLA',\n",
       " '131': 'ANELLE',\n",
       " '132': 'ANGAR THE SCREAMER/DAVID ANGAR',\n",
       " '133': 'ANGEL/WARREN KENNETH WORTHINGTON III',\n",
       " '134': 'ANGEL 2013',\n",
       " '135': 'ANGEL II/THOMAS HALLOWAY',\n",
       " '136': 'ANGEL III/HALLOWAY',\n",
       " '137': 'ANGEL IV',\n",
       " '138': 'ANGEL DOPPELGANGER',\n",
       " '139': 'ANGELOPOULOS, ANGEL III',\n",
       " '140': 'ANGKOR',\n",
       " '141': 'ANGLER',\n",
       " '142': 'ANGSTROM, EARL',\n",
       " '143': 'ANIELLE',\n",
       " '144': 'ANIMATOR/DR. FREDRICK ANIMUS',\n",
       " '145': 'ANIMATOR II/',\n",
       " '146': 'ANIMUS',\n",
       " '147': 'ANNALEE',\n",
       " '148': 'ANNIHILUS',\n",
       " '149': 'ANOMALY',\n",
       " '150': 'ANOMALY III',\n",
       " '151': 'ANON, LORD',\n",
       " '152': 'ANSWER',\n",
       " '153': 'ANSWER II/DAVID FERRARI',\n",
       " '154': 'ANT-MAN/DR. HENRY J. PYM',\n",
       " '155': 'ANT-MAN II/SCOTT HARRIS LANG',\n",
       " '156': 'ANTEUS',\n",
       " '157': 'ANTHROMORPHO',\n",
       " '158': 'ANTI-PHOENIX',\n",
       " '159': 'ANTI-VISION',\n",
       " '160': 'ANTIBODY',\n",
       " '161': 'ANTIQUARY/',\n",
       " '162': 'ANTOINETTE, MARIE',\n",
       " '163': 'ANTORO',\n",
       " '164': 'ANTRO',\n",
       " '165': 'ANUBAR, ANWAR',\n",
       " '166': 'ANUBIA',\n",
       " '167': 'ANVIL/JOHNNY ANVIL',\n",
       " '168': 'APE/',\n",
       " '169': 'APE MAN/GORDON MONK KEEFER',\n",
       " '170': 'APE MAN II/ROY MCVEY',\n",
       " '171': 'APE-X/XINA',\n",
       " '172': 'APOCALYPSE/EN SABAH NUR',\n",
       " '173': 'APOCALYPSE | MUTANT X-VERSE',\n",
       " '174': 'APOCRYPHUS',\n",
       " '175': 'APOLLO [GREEK GOD]',\n",
       " '176': 'APOSTATE',\n",
       " '177': 'APPALLA',\n",
       " '178': 'APPLEBAUM, PHANTASY',\n",
       " '179': 'AQUARIAN/WUNDARR',\n",
       " '180': 'AQUARIUS/DARREN BENTLEY',\n",
       " '181': 'AQUARIUS II/',\n",
       " '182': 'AQUARIUS III/',\n",
       " '183': 'ARABIAN KNIGHT/ABDUL QAMAR',\n",
       " '184': 'ARACHNE',\n",
       " '185': 'ARAGORN',\n",
       " '186': \"ARAKI [SHI'AR]\",\n",
       " '187': 'ARAKI II',\n",
       " '188': 'ARBOGAST, BAMBI',\n",
       " '189': 'ARCADE/',\n",
       " '190': 'ARCADIUS',\n",
       " '191': 'ARCANNA/ARCANNA JONES',\n",
       " '192': 'ARCHAEOPTERYX/TONAJA [INHUMAN]',\n",
       " '193': 'ARCHER/JUDE BLACK',\n",
       " '194': 'ARCHER, ULYSSES SAMSON U.S.',\n",
       " '195': 'ARCLIGHT/PHILLIPA SONTAG',\n",
       " '196': 'ARCTURUS',\n",
       " '197': 'ARES [GREEK GOD]',\n",
       " '198': 'AREX',\n",
       " '199': 'ARGOS',\n",
       " '200': 'ARGOSY, HERVE',\n",
       " '201': 'ARIA',\n",
       " '202': 'ARIANE',\n",
       " '203': 'ARIDES',\n",
       " '204': 'ARIEL II',\n",
       " '205': 'ARIES/MARCUS LASSITER',\n",
       " '206': 'ARIES II/GROVER RAYMOND',\n",
       " '207': 'ARIES III/',\n",
       " '208': 'ARISHEM [CELESTIAL]',\n",
       " '209': 'ARIZE',\n",
       " '210': 'ARKANIAN, GLIB',\n",
       " '211': 'ARKO',\n",
       " '212': 'ARKON',\n",
       " '213': 'ARLINGTON, DR. MARCUS',\n",
       " '214': 'ARLISSE',\n",
       " '215': 'ARMADA',\n",
       " '216': 'ARMADA II/',\n",
       " '217': 'ARMADILLO/ANTONIO RODRIGUEZ',\n",
       " '218': 'ARMAGEDDON',\n",
       " '219': 'ARMAGEDDON MAN',\n",
       " '220': 'ARMAND',\n",
       " '221': 'ARMAROS',\n",
       " '222': 'ARMAZIEL',\n",
       " '223': 'ARMBRUSTER, COLONEL JOHN D. JACK',\n",
       " '224': 'ARMS MERCHANT/ANDREAS KAPELOS',\n",
       " '225': 'ARMSTRONG, ?',\n",
       " '226': 'ARMSTRONG, MYRA',\n",
       " '227': 'ARNSTROM',\n",
       " '228': 'ARON [WATCHER]',\n",
       " '229': 'ARRANGER/',\n",
       " '230': 'ARSENAL',\n",
       " '231': 'ARSENAL II',\n",
       " '232': 'ARSENIC',\n",
       " '233': 'ARTEMIS',\n",
       " '234': 'ARVAK',\n",
       " '235': 'ARYAN',\n",
       " '236': 'ASANO',\n",
       " '237': 'ASBERY, SHAMARI',\n",
       " '238': 'ASBESTOS LADY',\n",
       " '239': 'ASH, BRANDY',\n",
       " '240': 'ASHEMA [CELESTIAL]',\n",
       " '241': 'ASHER, CARL',\n",
       " '242': 'ASHER, DONNA',\n",
       " '243': 'ASHER, MICHAEL',\n",
       " '244': 'ASHUR',\n",
       " '245': 'ASKANI',\n",
       " '246': 'ASMODEUS',\n",
       " '247': 'ASP II/CLEO',\n",
       " '248': 'ASSAULT/',\n",
       " '249': 'ASTARTE',\n",
       " '250': 'ASTER, LUCIAN',\n",
       " '251': 'ASTRA',\n",
       " '252': 'ASTRA II',\n",
       " '253': 'ASTROLOGER/',\n",
       " '254': 'ASTRONOMER',\n",
       " '255': 'ASTROVIK, ARNOLD',\n",
       " '256': 'ASTROVIK, NORMA',\n",
       " '257': 'ASYLUM/',\n",
       " '258': 'ASYLUM II/HENRIQUE MANUEL GALLANTE',\n",
       " '259': 'ATALANTA',\n",
       " '260': 'ATHENA [GREEK GOD]',\n",
       " '261': 'ATKINSON, MAJ. EDMOND',\n",
       " '262': 'ATLAS',\n",
       " '263': 'ATLAS III',\n",
       " '264': 'ATOM SMASHER/',\n",
       " '265': 'ATOM SMASHER II/',\n",
       " '266': 'ATOM-SMASHER/',\n",
       " '267': 'ATOR, GENERAL',\n",
       " '268': 'ATTRACTIVE LAD/AUNDRAY',\n",
       " '269': 'ATTUMA',\n",
       " '270': 'AUGUST PERSONAGE IN JADE/YU-TI',\n",
       " '271': 'AUNTIE FREEZE/',\n",
       " '272': 'AURA/ANN HERD',\n",
       " '273': 'AURIC/',\n",
       " '274': 'AURORA/JEANNE-MARIE BAUBIER',\n",
       " '275': 'AURORA DOPPELGANGER',\n",
       " '276': 'AURORA | MUTANT X-VERSE',\n",
       " '277': 'AUSTIN, GEN.',\n",
       " '278': 'AUSTIN, SUSAN',\n",
       " '279': 'AUSTIN, TERRY',\n",
       " '280': 'AUTHIER, POLICE CHIEF',\n",
       " '281': 'AUTHIER, TRACY TRACE',\n",
       " '282': 'AUTHORITY/',\n",
       " '283': 'AUTOLYCUS',\n",
       " '284': 'AVALANCHE/DOMINIC PETROS',\n",
       " '285': 'AVANDALIA',\n",
       " '286': 'AVATAR',\n",
       " '287': 'AVATAR II/PRINCESS ALAISA RUANTHA',\n",
       " '288': 'AVIA',\n",
       " '289': 'AVIOS',\n",
       " '290': 'AVIUS',\n",
       " '291': 'AVRIL, SALLY',\n",
       " '292': 'AVRIL, YVETTE',\n",
       " '293': 'AWESOME ANDROID',\n",
       " '294': 'AXE/',\n",
       " '295': 'AXIS/',\n",
       " '296': 'AYALA, AWILDA',\n",
       " '297': 'AYALA, FILIPPO',\n",
       " '298': 'AYALA, MRS.',\n",
       " '299': 'AYALA, NESTOR',\n",
       " '300': 'AYESHA',\n",
       " '301': 'AZAZEL',\n",
       " '302': 'AZAZEL II',\n",
       " '303': 'AZIR',\n",
       " '304': 'AZOPARDI',\n",
       " '305': 'AZOR',\n",
       " '306': 'AZRAEL',\n",
       " '307': 'AZURE',\n",
       " '308': \"B'ARR\",\n",
       " '309': \"B'GON\",\n",
       " '310': \"B'KOSA, GEN. JONATHAN\",\n",
       " '311': 'BAAL',\n",
       " '312': 'BAAL II',\n",
       " '313': 'BACILLUS',\n",
       " '314': 'BADALAMENTE, JESUS',\n",
       " '315': 'BADALINO, LT. MICHAEL',\n",
       " '316': 'BAILEY, GAILYN',\n",
       " '317': 'BAILEY, JOEY',\n",
       " '318': 'BAILEY, SARA GREY',\n",
       " '319': 'BAIRD, DR.',\n",
       " '320': 'BAKER',\n",
       " '321': 'BAKER, ANNE-MARIE',\n",
       " '322': 'BALABAN/',\n",
       " '323': 'BALDER [ASGARDIAN]',\n",
       " '324': 'BALDWIN, JUSTIN',\n",
       " '325': 'BALDWIN, MADELYNE MADDIE NAYLOR',\n",
       " '326': 'BALE, EMERSON',\n",
       " '327': 'BALLANTINE, DEVON',\n",
       " '328': 'BALLANTINE, KAYLA',\n",
       " '329': 'BALLANTINE, MR.',\n",
       " '330': 'BALLANTINE, MRS.',\n",
       " '331': 'BALOR',\n",
       " '332': 'BAMBI',\n",
       " '333': 'BANCROFT, MARTINE',\n",
       " '334': 'BANDIT/',\n",
       " '335': 'BANK, IRVING',\n",
       " '336': 'BANKS, SHARON',\n",
       " '337': 'BANNER, BETTY ROSS TALBOT',\n",
       " '338': 'BANNERJEE, DR.',\n",
       " '339': 'BANNON, LANCE',\n",
       " '340': 'BANSHEE/SEAN CASSIDY',\n",
       " '341': 'BANSHEE 2013',\n",
       " '342': 'BANSHEE II',\n",
       " '343': 'BANTAM/',\n",
       " '344': 'BANTOCK, LT. OLIVER',\n",
       " '345': 'BAPTISTE, TANTE MATTIE',\n",
       " '346': 'BARAK',\n",
       " '347': 'BARBAROSSA, MARIO',\n",
       " '348': 'BARBAROSSA, VINNIE',\n",
       " '349': 'BARBARUS',\n",
       " '350': 'BARIUM',\n",
       " '351': 'BARKER',\n",
       " '352': 'BARKER, MATTHEW T.',\n",
       " '353': 'BARNACLE/',\n",
       " '354': 'BARNETT, MIKE',\n",
       " '355': 'BARON BLOOD/JOHN FALSWORTH',\n",
       " '356': 'BARON BLOOD II/VICTOR STRANGE',\n",
       " '357': 'BARON BRIMSTONE/',\n",
       " '358': 'BARON MACABRE/',\n",
       " '359': 'BARON MORDO/KARL MORDO',\n",
       " '360': 'BARON SAMEDI',\n",
       " '361': 'BARON STRUCKER/WOLFGANG VON STRUCKER',\n",
       " '362': 'BARON ZEBEK',\n",
       " '363': 'BARONESS ZEMO/HEIKE',\n",
       " '364': 'BARRACUDA/',\n",
       " '365': 'BARRAGE',\n",
       " '366': 'BARRANCO, MARIA ESMERALDA',\n",
       " '367': 'BARRENOS, OMAR',\n",
       " '368': 'BARRIER/',\n",
       " '369': 'BARRINGTON',\n",
       " '370': 'BARRON, RICK',\n",
       " '371': 'BARROWS, WALTER',\n",
       " '372': 'BARTLETT, STU',\n",
       " '373': 'BARTON, SEN.',\n",
       " '374': 'BARTOS',\n",
       " '375': 'BASALLO/LAVA MEN KING',\n",
       " '376': 'BASALTAR',\n",
       " '377': 'BASILISK/BASIL ELKS',\n",
       " '378': 'BASILISK II',\n",
       " '379': 'BASILISK III/',\n",
       " '380': 'BATAL/',\n",
       " '381': 'BATROC/GEORGES BATROC',\n",
       " '382': 'BATTERING RAM',\n",
       " '383': 'BATTERY/',\n",
       " '384': 'BATTLE, MONTGOMERY',\n",
       " '385': 'BATTLEAXE/',\n",
       " '386': 'BATTLEAXE II/JEROME HAMILTON (II)',\n",
       " '387': 'BATTLESTAR/LEMAR HOSKINS',\n",
       " '388': 'BATWING/',\n",
       " '389': 'BAV-TEK',\n",
       " '390': 'BAXTER',\n",
       " '391': 'BAXTER, ABIGAIL',\n",
       " '392': 'BAXTER, NOAH',\n",
       " '393': 'BAYLOR, FRANK',\n",
       " '394': 'BAYMAX',\n",
       " '395': 'BAZIN, ALLEGRA',\n",
       " '396': 'BAZIN, ANDREW',\n",
       " '397': 'BAZIN, BRODERICK RICK',\n",
       " '398': 'BAZIN, PHILLIPPE',\n",
       " '399': 'BEACH, GINGER',\n",
       " '400': 'BEACH, SPIDER',\n",
       " '401': 'BEALE, ERIC',\n",
       " '402': 'BEAR/',\n",
       " '403': 'BEAST/HENRY &HANK& P. MCCOY',\n",
       " '404': 'BEAST 2013',\n",
       " '405': 'BEAST DOPPELGANGER',\n",
       " '406': 'BEAST DOPPELGANGER II',\n",
       " '407': 'BEAST DOPPELGANGER III',\n",
       " '408': 'BEAUMONT, SPENCER',\n",
       " '409': 'BEAUTIFUL DREAMER',\n",
       " '410': 'BEAUTIFUL DREAMER II',\n",
       " '411': 'BEAUTY',\n",
       " '412': 'BECKFORD, NOEL',\n",
       " '413': 'BECKLEY, BENNY',\n",
       " '414': 'BECKMAN, CHARLES',\n",
       " '415': 'BECKMAN, JOSEPH',\n",
       " '416': 'BECKMAN, LISA',\n",
       " '417': 'BECKMAN, SARAH',\n",
       " '418': 'BEDFORD, BRAD HULK',\n",
       " '419': 'BEDLAM/JESSE AARONSON',\n",
       " '420': 'BEDLAM II/OLISA KABAKI',\n",
       " '421': 'BEEF/',\n",
       " '422': 'BEEFER',\n",
       " '423': 'BEERE, JASON',\n",
       " '424': 'BEETLE/ABNER RONALD JENKINS',\n",
       " '425': 'BEETLE II/LEILA DAVIS',\n",
       " '426': 'BEETLE ROBOT',\n",
       " '427': 'BEHEMOTH',\n",
       " '428': 'BEL-DANN, GEN.',\n",
       " '429': 'BELASCO',\n",
       " '430': 'BELDAME',\n",
       " '431': 'BELGRADE, DR. HORATIO',\n",
       " '432': 'BELIAL',\n",
       " '433': 'BELL, HERBERT',\n",
       " '434': 'BELLADONNA',\n",
       " '435': 'BELLAM',\n",
       " '436': 'BELLE',\n",
       " '437': 'BENAZA',\n",
       " '438': 'BENCHLEY',\n",
       " '439': 'BENDIX, DR. ALBERT',\n",
       " '440': 'BENEDICT',\n",
       " '441': 'BENEDICT, ANDREW',\n",
       " '442': 'BENGAL/',\n",
       " '443': 'BENJAMIN, BYRON',\n",
       " '444': 'BENNETT, DANNY',\n",
       " '445': 'BENNETT, MITCH',\n",
       " '446': 'BENNING, VERONICA',\n",
       " '447': 'BENNY, JAKE',\n",
       " '448': 'BENTLEY, MILES',\n",
       " '449': 'BENTLEY, VICTORIA',\n",
       " '450': 'BENTON, TERRY',\n",
       " '451': 'BENWAY, DR.',\n",
       " '452': 'BERDITCHEV, ITZHAK',\n",
       " '453': 'BEREET',\n",
       " '454': 'BERENGHETTI, MICHAEL',\n",
       " '455': 'BERENGHETTI, SUSAN',\n",
       " '456': 'BERGER, PROF.',\n",
       " '457': 'BERGIER, REBECCA',\n",
       " '458': 'BERGLUND, GEN.',\n",
       " '459': 'BERKELEY, TRAVIS',\n",
       " '460': 'BERMAN, ADAM',\n",
       " '461': 'BERNARD THE POET',\n",
       " '462': 'BERNHARD, CLARICE',\n",
       " '463': 'BERNIE',\n",
       " '464': 'BERNSTEIN, DR. NOAH',\n",
       " '465': 'BERNSTEIN, EMMA WEBSTER',\n",
       " '466': 'BERSERKER',\n",
       " '467': 'BERSERKER II',\n",
       " '468': 'BERSERKER III',\n",
       " '469': 'BERTRAM',\n",
       " '470': 'BERYL',\n",
       " '471': 'BERYLLIUM',\n",
       " '472': 'BETA RAY BILL',\n",
       " '473': 'BETA RAY BILL | MUTANT X-VERSE',\n",
       " '474': 'BETELHEIM, NORMA',\n",
       " '475': 'BETTY-6',\n",
       " '476': 'BEVATRON/',\n",
       " '477': 'BEYNON, DR. BRADLEY',\n",
       " '478': 'BEYONDER',\n",
       " '479': 'BEYONDER | MUTANT X-VERSE',\n",
       " '480': 'BI-BEAST',\n",
       " '481': 'BI-BEAST II',\n",
       " '482': 'BIANDU',\n",
       " '483': 'BIG BEN/',\n",
       " '484': 'BIG BERTHA/ASHLEY CRAWFORD',\n",
       " '485': 'BIG CASINO/',\n",
       " '486': 'BIG MAN/FREDERICK FOSWELL',\n",
       " '487': 'BIG ONE/KENJIRO SASAKI',\n",
       " '488': 'BIGGERS, MELVIN',\n",
       " '489': 'BILE/',\n",
       " '490': 'BILLUPS, AGENT',\n",
       " '491': 'BINARY/CAROL DANVERS',\n",
       " '492': 'BINARY | MUTANT X-VERSE/CAROL DANVERS',\n",
       " '493': 'BIOHAZARD',\n",
       " '494': 'BIOHAZARD II/FLETCHER TRAYNOR',\n",
       " '495': 'BIRD MAN/HENRY HAWK',\n",
       " '496': 'BIRD MAN III/',\n",
       " '497': 'BIRD, TUESDAY',\n",
       " '498': 'BIRDBRAIN',\n",
       " '499': 'BIRDY',\n",
       " '500': 'BISHOP /',\n",
       " '501': 'BISON/BILLY KITSON',\n",
       " '502': 'BITMAP/',\n",
       " '503': 'BIZEN',\n",
       " '504': 'BLACK AVENGER/JERRY CARSTAIRS',\n",
       " '505': 'BLACK BOLT/BLACKANTOR BOLTAGON [INHUMAN]',\n",
       " '506': 'BLACK BOLT | MUTANT X-VERSE',\n",
       " '507': 'BLACK BRIGADE',\n",
       " '508': 'BLACK CAT/FELICIA HARDY',\n",
       " '509': 'BLACK CRANE/',\n",
       " '510': 'BLACK CROW/JESSE BLACK CROW',\n",
       " '511': 'BLACK DEATH/DR. IVAN KIVELKI',\n",
       " '512': 'BLACK FOX/ROBERT W. PAINE',\n",
       " '513': 'BLACK FOX II/',\n",
       " '514': 'BLACK GOLIATH/DR. WILLIAM BILL BARRETT FOSTER',\n",
       " '515': 'BLACK HOLE/MORTON KIBBEE',\n",
       " '516': 'BLACK KING/SEBASTIAN SHAW',\n",
       " '517': 'BLACK KING/SEBASTIAN SHAW | MUTANT X-VERSE',\n",
       " '518': 'BLACK KNIGHT/SIR PERCY OF SCANDIA',\n",
       " '519': 'BLACK KNIGHT II/SIR RASTON',\n",
       " '520': 'BLACK KNIGHT III/EOBAR GARRINGTON',\n",
       " '521': 'BLACK KNIGHT IV/PROFESSOR NATHAN GARRETT',\n",
       " '522': 'BLACK KNIGHT V/DANE WHITMAN',\n",
       " '523': 'BLACK KNIGHT IV DOPPELGANGER',\n",
       " '524': 'BLACK KNIGHT V DOPPELGANGER II',\n",
       " '525': 'BLACK KNIGHT V STATUE',\n",
       " '526': 'BLACK KNIGHT VI/PROFESSOR NATHAN GARRETT II',\n",
       " '527': 'BLACK LAMA',\n",
       " '528': 'BLACK MAMBA/TANYA SEALY',\n",
       " '529': 'BLACK MARIAH',\n",
       " '530': 'BLACK MARVEL/DAN LYONS',\n",
       " '531': 'BLACK MORAY',\n",
       " '532': 'BLACK MOUNTAIN/KUROYAMA',\n",
       " '533': \"BLACK PANTHER/T'CHALLA\",\n",
       " '534': 'BLACK PANTHER | MUTANT X-VERSE',\n",
       " '535': 'BLACK RAAZER/',\n",
       " '536': 'BLACK RACER/',\n",
       " '537': 'BLACK RAZER',\n",
       " '538': 'BLACK SPECTRE/CARSON KNOWLES',\n",
       " '539': 'BLACK TALON/DESMOND DREW',\n",
       " '540': 'BLACK TALON II/SAMUEL DAVID BARONE',\n",
       " '541': 'BLACK TALON III',\n",
       " '542': 'BLACK TARANTULA/LAMUERTO',\n",
       " '543': 'BLACK TARANTULA II/CARLOS LAMUERTO',\n",
       " '544': 'BLACK TOM CASSIDY',\n",
       " '545': 'BLACK WIDOW/NATASHA ROMANOVA',\n",
       " '546': 'BLACK WIDOW II/YELENA BELOVA',\n",
       " '547': 'BLACK WIDOW DOPPELGANGER',\n",
       " '548': 'BLACK WIDOW | MUTANT X-VERSE',\n",
       " '549': 'BLACK, CAL',\n",
       " '550': 'BLACK, CYRUS',\n",
       " '551': 'BLACK, RACHEL',\n",
       " '552': 'BLACKBALL',\n",
       " '553': 'BLACKBIRD/',\n",
       " '554': 'BLACKBODY',\n",
       " '555': 'BLACKHEART',\n",
       " '556': 'BLACKJACK/',\n",
       " '557': 'BLACKOUT/MARCUS DANIELS',\n",
       " '558': 'BLACKOUT II/',\n",
       " '559': 'BLACKSHEAR, JONAS',\n",
       " '560': 'BLACKWELL',\n",
       " '561': 'BLACKWING/JOSEPH MANFREDI',\n",
       " '562': 'BLACKWING II/',\n",
       " '563': 'BLACKWOOD, JENNY',\n",
       " '564': 'BLACKWULF',\n",
       " '565': 'BLADE',\n",
       " '566': 'BLAIR, CALEY',\n",
       " '567': 'BLAIRE, CARTER',\n",
       " '568': 'BLAKE, BECKY',\n",
       " '569': 'BLAKE, DR. DONALD',\n",
       " '570': 'BLAKE, DR. DONALD (CONSTRUCT)',\n",
       " '571': 'BLAKE, EMILY',\n",
       " '572': 'BLAKE, KENT',\n",
       " '573': 'BLANDING, ANDREW',\n",
       " '574': 'BLANDING, HALEY',\n",
       " '575': 'BLANDING, MRS.',\n",
       " '576': 'BLAQUESMITH',\n",
       " '577': 'BLARE/',\n",
       " '578': 'BLASTAAR',\n",
       " '579': 'BLASTING CAP/',\n",
       " '580': 'BLAZE, CRAIG',\n",
       " '581': 'BLAZE, EMMA',\n",
       " '582': 'BLAZE, ROXANNE SIMPSON',\n",
       " '583': 'BLAZING SKULL/MARK TODD',\n",
       " '584': 'BLESSING, MORGANA',\n",
       " '585': 'BLIND AL/ALTHEA',\n",
       " '586': 'BLINDSIDE II/BOBBI CHASE',\n",
       " '587': 'BLINK/FERGUSON, CLARICE',\n",
       " '588': 'BLISS',\n",
       " '589': 'BLISS, BONNIE',\n",
       " '590': 'BLISS, MISS',\n",
       " '591': 'BLITZIANA',\n",
       " '592': 'BLITZKRIEG/',\n",
       " '593': 'BLIZZARD/PROF. GREGOR SHAPANKA',\n",
       " '594': 'BLIZZARD II/DONALD GILL',\n",
       " '595': 'BLOB/FRED J. DUKES',\n",
       " '596': 'BLOCKADE/DEXTER PARISH',\n",
       " '597': 'BLOCKBUSTER/',\n",
       " '598': 'BLOCKBUSTER II',\n",
       " '599': 'BLOCKBUSTER III/MICHAEL BAER',\n",
       " '600': 'BLOK',\n",
       " '601': 'BLOKE/MICKEY TORK',\n",
       " '602': 'BLOOD BROTHERS',\n",
       " '603': 'BLOOD SPIDER/',\n",
       " '604': 'BLOOD WRAITH/SEAN DOLAN',\n",
       " '605': 'BLOOD-TIDE',\n",
       " '606': 'BLOODAXE/JACKIE LUKUS',\n",
       " '607': 'BLOODHOUND/',\n",
       " '608': 'BLOODLUST',\n",
       " '609': 'BLOODSHED/WYNDELL DICHINSON',\n",
       " '610': 'BLOODSCREAM',\n",
       " '611': 'BLOODSTONE/ULYSSES BLOODSTONE',\n",
       " '612': 'BLOODSTORM | MUTANT X-VERSE/ORORO MUNROE',\n",
       " '613': 'BLOODSTRIKE/ERIC CONROY',\n",
       " '614': 'BLOODVESSEL, BUSTA',\n",
       " '615': \"BLOODWING [SHI'AR]\",\n",
       " '616': 'BLOODWRAITH/SEAN DOLAN',\n",
       " '617': 'BLOODY BESS',\n",
       " '618': 'BLOODY MARY',\n",
       " '619': 'BLOTT, BRIGADIER INKY',\n",
       " '620': 'BLOWTORCH/',\n",
       " '621': 'BLUDGEON/',\n",
       " '622': 'BLUDGEON/',\n",
       " '623': 'BLUE BULLET/PROF. JOHN GOLDSTEIN',\n",
       " '624': 'BLUE DIAMOND/PROFESSOR ELTON T. MORROW',\n",
       " '625': 'BLUE SHIELD/JOSEPH JOEY CARTELLI',\n",
       " '626': 'BLUE STREAK/',\n",
       " '627': 'BLUNT',\n",
       " '628': 'BLUR',\n",
       " '629': 'BLURRY',\n",
       " '630': 'BOAK',\n",
       " '631': 'BOBCAT/',\n",
       " '632': 'BODYBAG',\n",
       " '633': 'BOERKE, MAYOR',\n",
       " '634': 'BOGATYR/MIKULA GOLUBEV',\n",
       " '635': 'BOGGS, MORDECAI P.',\n",
       " '636': 'BOLERO/',\n",
       " '637': 'BOLT/LAWRENCE EVANS',\n",
       " '638': 'BOLT II/CHRIS BRADLEY/BRIAN JOHNSON',\n",
       " '639': 'BOLT, COUNCILMAN ANDREW',\n",
       " '640': 'BOMBADIER/',\n",
       " '641': 'BOMBLAST/',\n",
       " '642': 'BOMBSHELL/',\n",
       " '643': 'BOND',\n",
       " '644': 'BONEBREAKER/',\n",
       " '645': 'BONES/ELIZABETH BLISS',\n",
       " '646': 'BONITA',\n",
       " '647': 'BOOBYTRAP/',\n",
       " '648': 'BOOKWORM/NELSON GRUBER',\n",
       " '649': 'BOOMER/TABITHA SMITH',\n",
       " '650': 'BOOMERANG/FRED MYERS',\n",
       " '651': 'BOOMSLANG/',\n",
       " '652': 'BOONE',\n",
       " '653': 'BORA',\n",
       " '654': 'BORAKU',\n",
       " '655': 'BORROB',\n",
       " '656': 'BORROUGHS, CHARLES CHARLIE',\n",
       " '657': 'BOSCO, ELAINE',\n",
       " '658': 'BOSHLOVOR',\n",
       " '659': 'BOUDREAUX, BELLA DONNA',\n",
       " '660': 'BOUDREAUX, BELLA DONNA | MUTANT X-VERSE',\n",
       " '661': 'BOUDREAUX, MARIUS',\n",
       " '662': 'BOULDER/',\n",
       " '663': 'BOUNCER',\n",
       " '664': 'BOUNTY',\n",
       " '665': 'BOUNTY II',\n",
       " '666': 'BOVA',\n",
       " '667': 'BOWDEN, DENNIS',\n",
       " '668': 'BOWEN, FATHER MICHAEL',\n",
       " '669': 'BOWMAN, MAJ.',\n",
       " '670': 'BOX/ROGER BOCHS',\n",
       " '671': 'BOX II/JERRY JAXXON',\n",
       " '672': 'BOX IV/MADISON JEFFRIES',\n",
       " '673': 'BOYD, TWO-FISTED TOMMY',\n",
       " '674': 'BRADDOCK, ELIZABETH',\n",
       " '675': 'BRADDOCK, JAMES',\n",
       " '676': 'BRADDOCK, JAMES JR. JAMIE',\n",
       " '677': 'BRADDOCK, JOHN',\n",
       " '678': 'BRADLEY, CARRIE',\n",
       " '679': 'BRADLEY, HANK',\n",
       " '680': 'BRADLEY, JESSICA',\n",
       " '681': 'BRAHAMS',\n",
       " '682': 'BRAHMANES',\n",
       " '683': 'BRAIN CELL/',\n",
       " '684': 'BRAIN DRAIN/WERNER SCHMIDT',\n",
       " '685': 'BRAINCHILD',\n",
       " '686': 'BRAINSTORM/',\n",
       " '687': 'BRAINY',\n",
       " '688': 'BRAITHWAITE, JUDGE ROBERT',\n",
       " '689': 'BRAMER',\n",
       " '690': 'BRANDEIS, CAMMY',\n",
       " '691': 'BRANDEIS, LIZ PARRISH',\n",
       " '692': 'BRANDEIS, PROF. HENRY',\n",
       " '693': 'BRANDT, ELLEN',\n",
       " '694': 'BRANNEX',\n",
       " '695': 'BRANNEX, ALLESSANDRO',\n",
       " '696': 'BRANSON',\n",
       " '697': 'BRASS/SEAN WATANABE',\n",
       " '698': 'BRASS BISHOP/',\n",
       " '699': 'BRAWLER',\n",
       " '700': 'BRAWN, HUNTER',\n",
       " '701': 'BRAWN, TRISTAN',\n",
       " '702': 'BREAKER/RAAK',\n",
       " '703': 'BREEGAN',\n",
       " '704': 'BRES',\n",
       " '705': 'BREWER, AMY',\n",
       " '706': 'BREWER, DR. MELINDA',\n",
       " '707': 'BRICKFORD, CLAY',\n",
       " '708': 'BRICKMAN, GLORIA',\n",
       " '709': 'BRICKMAN, SEN. MILES RALPH',\n",
       " '710': 'BRIDGE, GEORGE WASHINGTON G.W.',\n",
       " '711': 'BRIGGS, AGENT',\n",
       " '712': 'BRIGGS, AGENT STEPHANIE',\n",
       " '713': 'BRIGHTSWORD/CARTER DYAM',\n",
       " '714': 'BRIGHTWIND',\n",
       " '715': 'BRINKE, NIOMI',\n",
       " '716': 'BRIQUETTE/',\n",
       " '717': 'BROADSIDE',\n",
       " '718': 'BROGIN, BULL',\n",
       " '719': 'BROKEN MAN',\n",
       " '720': 'BROKER',\n",
       " '721': 'BROMINE',\n",
       " '722': 'BROMWELL, DR.',\n",
       " '723': 'BRONA',\n",
       " '724': 'BROOKS, ANNA',\n",
       " '725': 'BROOP',\n",
       " '726': 'BROTHER CAESAR',\n",
       " '727': 'BROTHER ROYAL',\n",
       " '728': 'BROTHER STEPHEN',\n",
       " '729': 'BROTHER TODE',\n",
       " '730': 'BROTHER VIRGIL',\n",
       " '731': 'BROTHER VOODOO/DANIEL DRUMM/JERICHO DRUMM',\n",
       " '732': 'BROTHER VOODOO | MUTANT X-VERSE',\n",
       " '733': 'BROTHER WONDERFUL/DR. ABNER DOOLITTLE',\n",
       " '734': 'BROTHERS GRIMM',\n",
       " '735': 'BROTHERS GRIMM II/BARTON & PERCY GRIMM',\n",
       " '736': 'BROWN, ABE',\n",
       " '737': 'BROWN, FRANK',\n",
       " '738': 'BROWN, LAURA',\n",
       " '739': 'BROWN, MINDY MCPHERSON',\n",
       " '740': 'BROWSER',\n",
       " '741': 'BRUKNER, DR. FRANK',\n",
       " '742': 'BRUKNER, ILANEY',\n",
       " '743': 'BRUNNHILDE/MCM-XLI (1941)',\n",
       " '744': 'BRUNO',\n",
       " '745': 'BRUTACUS',\n",
       " '746': 'BRUTE/REED RICHARDS COUNTER-EARTH',\n",
       " '747': 'BRUTE II/',\n",
       " '748': 'BRUTE | MUTANT X-VERSE/HENRY MCCOY',\n",
       " '749': 'BRUTO THE STRONGMAN/',\n",
       " '750': 'BRUTUS',\n",
       " '751': 'BRUTUS II',\n",
       " '752': 'BRUTUS KLOR',\n",
       " '753': 'BRYCE, ARCHER',\n",
       " '754': 'BUCHANAN, SAM',\n",
       " '755': 'BUCHETTO, SALVATORE SIDE POCKETS',\n",
       " '756': 'BUCHOVITZ, STANLEY &STONEWALL&',\n",
       " '757': 'BUCKNER, GRANT',\n",
       " '758': 'BUCKMAN, EDWARD',\n",
       " '759': 'BUCKY/BUCKY BARNES',\n",
       " '760': 'BUCKY II/FRED DAVIS',\n",
       " '761': 'BUCKY VI/',\n",
       " '762': 'BUCKY VII/RIKKI BARNES',\n",
       " '763': 'BUEL',\n",
       " '764': 'BUG',\n",
       " '765': 'BUKOWSKI, BUCK',\n",
       " '766': 'BULL',\n",
       " '767': 'BULLDOZER/HENRY CAMP',\n",
       " '768': 'BULLET',\n",
       " '769': 'BULLET BIKER',\n",
       " '770': 'BULLSEYE',\n",
       " '771': 'BULLSEYE II/BENJAMIN POINDEXTER',\n",
       " '772': 'BULLSEYE | MUTANT X-VERSE/BENJAMIN POINDEXTER',\n",
       " '773': 'BULWARK/',\n",
       " '774': 'BUMPKIN',\n",
       " '775': 'BUMPO, MR.',\n",
       " '776': 'BUNYAN, PAUL',\n",
       " '777': 'BURGOS, CARL',\n",
       " '778': 'BURKE',\n",
       " '779': 'BURKE, GWYNETH',\n",
       " '780': 'BURKE, JACK',\n",
       " '781': 'BURKE, JOB',\n",
       " '782': 'BURKE, RICKY',\n",
       " '783': 'BURKE, THERESA TRACY',\n",
       " '784': 'BURLEY, MIKE',\n",
       " '785': 'BURLINGAME, CALVIN',\n",
       " '786': 'BURNING PUDDLE',\n",
       " '787': 'BURR, CLAYTON',\n",
       " '788': 'BURRTHROP, T. BARTON',\n",
       " '789': 'BURST/',\n",
       " '790': 'BUSH, GEORGE',\n",
       " '791': 'BUSHKIN, BARNEY',\n",
       " '792': 'BUSHMAN, RAOUL',\n",
       " '793': 'BUSHMASTER/JOHN MCIVER',\n",
       " '794': 'BUSHMASTER II/QUINCY MCIVER',\n",
       " '795': 'BUSHWACKER/CARL',\n",
       " '796': 'BUSIEK, KURT',\n",
       " '797': 'BUTCH',\n",
       " '798': 'BUTTERFLY',\n",
       " '799': 'BUTTONS',\n",
       " '800': 'BUX',\n",
       " '801': 'BUZZ',\n",
       " '802': 'BUZZARD',\n",
       " '803': 'BYRD, NATHANIEL ALEXANDER BLACKBYRD',\n",
       " '804': 'BYRD, SEN. HARRINGTON',\n",
       " '805': 'BYREL',\n",
       " '806': 'BYRNE, JOHN',\n",
       " '807': 'BYRNES, GAYLE WATSON',\n",
       " '808': 'BYRNES, TIM',\n",
       " '809': 'BYRRAH [ATLANTEAN]',\n",
       " '810': 'BYRRAH | HEROES REBORN-VERSE',\n",
       " '811': 'C.F.',\n",
       " '812': 'CABE, BETHANY',\n",
       " '813': 'CABER',\n",
       " '814': 'CACHE',\n",
       " '815': 'CACHES, FABIAN',\n",
       " '816': 'CACHES, PROF. MARINA',\n",
       " '817': 'CACTUS',\n",
       " '818': 'CADAVER',\n",
       " '819': 'CADMIUM',\n",
       " '820': 'CADUCEUS',\n",
       " '821': 'CAESAR',\n",
       " '822': 'CAESAR, JONATHAN',\n",
       " '823': 'CAESAR, JULIUS',\n",
       " '824': 'CAGE, LUKE/CARL LUCAS',\n",
       " '825': 'CAGLIOSTRO, ALESSANDRO/GUISEPPE BALSAMO',\n",
       " '826': 'CAIRN, DET.',\n",
       " '827': 'CALCULUS/JAHAHAREL PATEL',\n",
       " '828': 'CALDERONE, HANNAH',\n",
       " '829': 'CALDRONE, JAVIER',\n",
       " '830': 'CALEDONIA/ALISANDE STEWART',\n",
       " '831': 'CALIBAN/',\n",
       " '832': 'CALIFORNIUM',\n",
       " '833': 'CALKIN, SUSAN',\n",
       " '834': 'CALLAGHAN, JAMES',\n",
       " '835': 'CALLAHAN, DANNY',\n",
       " '836': 'CALLAHAN, MIKE',\n",
       " '837': 'CALLISTO',\n",
       " '838': 'CALLISTO | MUTANT X-VERSE',\n",
       " '839': 'CALUMET',\n",
       " '840': 'CALYPSO',\n",
       " '841': 'CAMBRIDGE, MOXIE',\n",
       " '842': 'CAMPBELL, DR. RORY',\n",
       " '843': 'CAMPBELL, MEREDITH',\n",
       " '844': 'CAMPBELL, VALERIE',\n",
       " '845': 'CANCELLATOR',\n",
       " '846': 'CANCER/JACK KLEVENO',\n",
       " '847': 'CANCER II/',\n",
       " '848': 'CANDLEMAS/',\n",
       " '849': 'CANDLER, OWEN',\n",
       " '850': 'CANDRA',\n",
       " '851': 'CANDY',\n",
       " '852': 'CANE/',\n",
       " '853': 'CANNONBALL/JACK PULVER',\n",
       " '854': 'CANNONBALL II/SAM GUTHRIE',\n",
       " '855': 'CANNONBALL/SAM GUTHRIE | MUTANT X-VERSE',\n",
       " '856': 'CANTOR, VERA',\n",
       " '857': 'CAPRICORN/WILLARD WEIR',\n",
       " '858': 'CAPRICORN II/',\n",
       " '859': 'CAPTAIN AMERICA',\n",
       " '860': 'CAPTAIN AMERICA IV/STEVE ROGERS II',\n",
       " '861': 'CAPTAIN AMERICA V/ROSCOE',\n",
       " '862': 'CAPTAIN AMERICA DOPPELGANGER',\n",
       " '863': 'CAPTAIN AMERICA DOPPELGANGER II',\n",
       " '864': 'CAPTAIN AMERICA DOPPELGANGER III',\n",
       " '865': 'CAPTAIN AMERICA | MUTANT X-VERSE',\n",
       " '866': 'CAPTAIN BARRACUDA',\n",
       " '867': 'CAPTAIN BRITAIN/BRIAN BRADDOCK',\n",
       " '868': 'CAPTAIN BRITAIN 2013',\n",
       " '869': 'CAPTAIN FATE',\n",
       " '870': 'CAPTAIN GLORY',\n",
       " '871': 'CAPTAIN HAWK',\n",
       " '872': 'CAPTAIN HIP/FRED MACRAE',\n",
       " '873': 'CAPTAIN MANHATTAN',\n",
       " '874': 'CAPTAIN MARVEL/CAPTAIN MAR-VELL [KREE]',\n",
       " '875': 'CAPTAIN MARVEL II/MONICA RAMBEAU',\n",
       " '876': 'CAPTAIN MARVEL III/GENIS-VELL',\n",
       " '877': 'CAPTAIN POWER/DR. CHRISTINA CARR',\n",
       " '878': 'CAPTAIN RECTITUDE',\n",
       " '879': 'CAPTAIN TERROR/DAN KANE',\n",
       " '880': 'CAPTAIN U.K./LINDA MCQUILLAN',\n",
       " '881': 'CAPTAIN ULTRA/GRIFFIN GOGOL',\n",
       " '882': 'CAPTAIN UNIVERSE/STEVE COFFIN',\n",
       " '883': 'CAPTAIN WINGS/',\n",
       " '884': 'CAPUTO, DR. JULIA',\n",
       " '885': 'CARBON',\n",
       " '886': 'CARBONE, JULIUS',\n",
       " '887': 'CARBONE, ROSALIE',\n",
       " '888': 'CARBONE, SALVATORE',\n",
       " '889': 'CARDENAS, PACO',\n",
       " '890': 'CARDIAC/DR. ELI WIRTHAM',\n",
       " '891': 'CARDINAL/CLEMDENON',\n",
       " '892': 'CARDINALE, CARLOS',\n",
       " '893': 'CAREGIVER/RUBANNA LAGENRIS QUORIMO',\n",
       " '894': 'CARETAKER',\n",
       " '895': 'CARGIL/JOANNA CARGIL',\n",
       " '896': 'CARGO',\n",
       " '897': 'CARINA/CARINA WALTERS KORVAC',\n",
       " '898': 'CARLISLE, JENNA',\n",
       " '899': 'CARLISLE, MELISSA BOWEN',\n",
       " '900': 'CARLISLE, PHILLIP',\n",
       " '901': 'CARLTON, JAKE',\n",
       " '902': 'CARLTON, LUCY',\n",
       " '903': 'CARLY',\n",
       " '904': 'CARMODY, MARY',\n",
       " '905': 'CARMODY, MRS.',\n",
       " '906': 'CARNAGE/CLETUS KASADY',\n",
       " '907': 'CARNIVORE/COUNT ANDREAS ZORBA',\n",
       " '908': 'CARPATHIAN, ANDREW',\n",
       " '909': 'CARPENTER, LARRY',\n",
       " '910': 'CARPENTER, RACHEL',\n",
       " '911': 'CARR, DAN',\n",
       " '912': 'CARRADINE, JESSICA JESSE',\n",
       " '913': 'CARRERA, MIA',\n",
       " '914': 'CARRION',\n",
       " '915': 'CARRION II/MALCOLM MACBRIDE',\n",
       " '916': 'CARRION III/DR. WILLIAM ALLEN',\n",
       " '917': 'CARSON, LT. PAUL',\n",
       " '918': 'CARTER, BRAD',\n",
       " '919': 'CARTER, JIMMY',\n",
       " '920': 'CARTER, PEGGY',\n",
       " '921': 'CARTER, SHARON',\n",
       " '922': 'CARTER, SHARON II',\n",
       " '923': 'CARTER, TAD',\n",
       " '924': 'CARTHUS',\n",
       " '925': 'CARVER',\n",
       " '926': 'CASE, COL. PRESTON',\n",
       " '927': 'CASEY',\n",
       " '928': 'CASIOLENA, QUEEN',\n",
       " '929': 'CASPER',\n",
       " '930': 'CASS, LARRY MAD DOG',\n",
       " '931': 'CASSADA, CARLOS',\n",
       " '932': 'CASSADA, MICHAEL',\n",
       " '933': 'CASSADA, ROBERTO',\n",
       " '934': 'CASSADA, ROSA',\n",
       " '935': 'CASSANDRA',\n",
       " '936': 'CASSIOPEIA',\n",
       " '937': 'CAT II',\n",
       " '938': 'CAT III/SHEN KUEI',\n",
       " '939': 'CAT IV',\n",
       " '940': 'CAT BURGLAR',\n",
       " '941': 'CAT KING',\n",
       " '942': 'CAT MAN/HORGAN',\n",
       " '943': 'CAT MAN III/',\n",
       " '944': 'CATAPHRAX',\n",
       " '945': 'CATHERWOOD',\n",
       " '946': 'CATHODE/',\n",
       " '947': 'CATSEYE/SHARON SMITH',\n",
       " '948': 'CATWALK/KIMBERLY DEE',\n",
       " '949': 'CAULDER, SAFRON',\n",
       " '950': 'CEAUSECU, IONEL',\n",
       " '951': 'CELESTE',\n",
       " '952': 'CELLANOS, MARCELLA',\n",
       " '953': 'CENTARIUS',\n",
       " '954': 'CENTURIUS',\n",
       " '955': 'CENTURY',\n",
       " '956': 'CENTURY, TURNER D.',\n",
       " '957': 'CERA, KAY',\n",
       " '958': 'CERANDA',\n",
       " '959': 'CERBERUS',\n",
       " '960': 'CERBERUS II',\n",
       " '961': 'CEREBRITE ALPHA',\n",
       " '962': 'CEREBRITE BETA',\n",
       " '963': 'CEREBRO',\n",
       " '964': 'CEREBRO | MUTANT-X VERSE',\n",
       " '965': 'CEREBRO MARK XIII | MUTANT X-VERSE',\n",
       " '966': 'CERISE',\n",
       " '967': \"CERISE II [SHI'AR]\",\n",
       " '968': 'CESIUM',\n",
       " '969': 'CETHLANN',\n",
       " '970': \"CH'OD\",\n",
       " '971': \"CH'THON\",\n",
       " '972': \"CH'VAYRE\",\n",
       " '973': 'CHADWICK, CHEER',\n",
       " '974': 'CHADWICK, DR. HESPERUS',\n",
       " '975': 'CHAIN',\n",
       " '976': 'CHAINSAW/',\n",
       " '977': 'CHAKA KHAN',\n",
       " '978': 'CHAKA KHAN II',\n",
       " '979': 'CHAKARA, KANU',\n",
       " '980': 'CHAKARA, MADAN',\n",
       " '981': 'CHAKRA',\n",
       " '982': 'CHAKRA II',\n",
       " '983': 'CHALIZ, HAZRAM',\n",
       " '984': 'CHALIZ, SHANAZ RAYNA',\n",
       " '985': 'CHALIZ, TABRIAZ',\n",
       " '986': 'CHALKER, PROF. VIC',\n",
       " '987': 'CHALMER, JUDGE',\n",
       " '988': 'CHALMERS, CYNTHIA',\n",
       " '989': 'CHALMERS, JUDGE ROBERT C. HARRISON',\n",
       " '990': 'CHALMERS, MR.',\n",
       " '991': 'CHAMBER/JONOTHON STARSMORE',\n",
       " '992': 'CHAMBERS, MR.',\n",
       " '993': 'CHAMBLISS',\n",
       " '994': 'CHAMELEON/DMITRI SMERDYAKOV',\n",
       " '995': 'CHAMPION/TRYCO SLATTERUS [ELDER]',\n",
       " '996': 'CHAMPION, IMUS',\n",
       " '997': 'CHAN, SARAH',\n",
       " '998': 'CHANCE',\n",
       " '999': 'CHANCE II/NICHOLAS POWELL',\n",
       " '1000': 'CHANDLER, PEGGY',\n",
       " ...}"
      ]
     },
     "execution_count": 163,
     "metadata": {},
     "output_type": "execute_result"
    }
   ],
   "source": [
    "charlookuptable #has ID + name. Nice!"
   ]
  },
  {
   "cell_type": "code",
   "execution_count": 169,
   "metadata": {},
   "outputs": [],
   "source": [
    "# Now to check the most influential characters, we see how many books are connect to it\n",
    "#mapValues applies a map function but only to the values part\n",
    "#We use a reduceByKey because a record contains only 15 books, so there could be multiple records per character\n",
    "\n",
    "inf = characterBookMap.mapValues(lambda x:len(x)).map(lambda x: (charlookuptable[x[0]],x[1])).reduceByKey(lambda x,y:x+y).sortBy(lambda x: -x[1])"
   ]
  },
  {
   "cell_type": "code",
   "execution_count": 170,
   "metadata": {},
   "outputs": [
    {
     "data": {
      "text/plain": [
       "[('SPIDER-MAN/PETER PARKER', 1625),\n",
       " ('CAPTAIN AMERICA', 1367),\n",
       " ('IRON MAN/TONY STARK', 1168),\n",
       " ('THING/BENJAMIN J. GRIMM', 990),\n",
       " ('THOR/DR. DONALD BLAKE/SIGURD JARLSON II/JAKE OLSON/LOREN OLSON', 965),\n",
       " ('HUMAN TORCH/JOHNNY STORM', 908),\n",
       " ('MR. FANTASTIC/REED RICHARDS', 875),\n",
       " ('HULK/DR. ROBERT BRUCE BANNER', 841),\n",
       " ('WOLVERINE/LOGAN', 820),\n",
       " ('INVISIBLE WOMAN/SUE STORM RICHARDS', 782)]"
      ]
     },
     "execution_count": 170,
     "metadata": {},
     "output_type": "execute_result"
    }
   ],
   "source": [
    "inf.take(10) #spider man FTW"
   ]
  },
  {
   "cell_type": "code",
   "execution_count": 171,
   "metadata": {},
   "outputs": [],
   "source": [
    "#not coding the co-occurence section but flatMapValues() is super useful function, itertools is really cool as well."
   ]
  }
 ],
 "metadata": {
  "kernelspec": {
   "display_name": "Python 3",
   "language": "python",
   "name": "python3"
  },
  "language_info": {
   "codemirror_mode": {
    "name": "ipython",
    "version": 3
   },
   "file_extension": ".py",
   "mimetype": "text/x-python",
   "name": "python",
   "nbconvert_exporter": "python",
   "pygments_lexer": "ipython3",
   "version": "3.7.5"
  }
 },
 "nbformat": 4,
 "nbformat_minor": 2
}
